{
 "cells": [
  {
   "cell_type": "code",
   "execution_count": 1,
   "metadata": {},
   "outputs": [],
   "source": [
    "import pandas as pd\n",
    "import numpy as np\n",
    "import seaborn as sns\n",
    "import matplotlib.pyplot as plt\n",
    "import warnings\n",
    "warnings.filterwarnings('ignore')\n",
    "\n",
    "data = pd.read_csv(\"winequalityN.csv\")"
   ]
  },
  {
   "cell_type": "code",
   "execution_count": 2,
   "metadata": {},
   "outputs": [
    {
     "data": {
      "text/html": [
       "<div>\n",
       "<style scoped>\n",
       "    .dataframe tbody tr th:only-of-type {\n",
       "        vertical-align: middle;\n",
       "    }\n",
       "\n",
       "    .dataframe tbody tr th {\n",
       "        vertical-align: top;\n",
       "    }\n",
       "\n",
       "    .dataframe thead th {\n",
       "        text-align: right;\n",
       "    }\n",
       "</style>\n",
       "<table border=\"1\" class=\"dataframe\">\n",
       "  <thead>\n",
       "    <tr style=\"text-align: right;\">\n",
       "      <th></th>\n",
       "      <th>count</th>\n",
       "      <th>mean</th>\n",
       "      <th>std</th>\n",
       "      <th>min</th>\n",
       "      <th>25%</th>\n",
       "      <th>50%</th>\n",
       "      <th>75%</th>\n",
       "      <th>max</th>\n",
       "    </tr>\n",
       "  </thead>\n",
       "  <tbody>\n",
       "    <tr>\n",
       "      <th>fixed acidity</th>\n",
       "      <td>6487.0</td>\n",
       "      <td>7.216579</td>\n",
       "      <td>1.296750</td>\n",
       "      <td>3.80000</td>\n",
       "      <td>6.40000</td>\n",
       "      <td>7.00000</td>\n",
       "      <td>7.70000</td>\n",
       "      <td>15.90000</td>\n",
       "    </tr>\n",
       "    <tr>\n",
       "      <th>volatile acidity</th>\n",
       "      <td>6489.0</td>\n",
       "      <td>0.339691</td>\n",
       "      <td>0.164649</td>\n",
       "      <td>0.08000</td>\n",
       "      <td>0.23000</td>\n",
       "      <td>0.29000</td>\n",
       "      <td>0.40000</td>\n",
       "      <td>1.58000</td>\n",
       "    </tr>\n",
       "    <tr>\n",
       "      <th>citric acid</th>\n",
       "      <td>6494.0</td>\n",
       "      <td>0.318722</td>\n",
       "      <td>0.145265</td>\n",
       "      <td>0.00000</td>\n",
       "      <td>0.25000</td>\n",
       "      <td>0.31000</td>\n",
       "      <td>0.39000</td>\n",
       "      <td>1.66000</td>\n",
       "    </tr>\n",
       "    <tr>\n",
       "      <th>residual sugar</th>\n",
       "      <td>6495.0</td>\n",
       "      <td>5.444326</td>\n",
       "      <td>4.758125</td>\n",
       "      <td>0.60000</td>\n",
       "      <td>1.80000</td>\n",
       "      <td>3.00000</td>\n",
       "      <td>8.10000</td>\n",
       "      <td>65.80000</td>\n",
       "    </tr>\n",
       "    <tr>\n",
       "      <th>chlorides</th>\n",
       "      <td>6495.0</td>\n",
       "      <td>0.056042</td>\n",
       "      <td>0.035036</td>\n",
       "      <td>0.00900</td>\n",
       "      <td>0.03800</td>\n",
       "      <td>0.04700</td>\n",
       "      <td>0.06500</td>\n",
       "      <td>0.61100</td>\n",
       "    </tr>\n",
       "    <tr>\n",
       "      <th>free sulfur dioxide</th>\n",
       "      <td>6497.0</td>\n",
       "      <td>30.525319</td>\n",
       "      <td>17.749400</td>\n",
       "      <td>1.00000</td>\n",
       "      <td>17.00000</td>\n",
       "      <td>29.00000</td>\n",
       "      <td>41.00000</td>\n",
       "      <td>289.00000</td>\n",
       "    </tr>\n",
       "    <tr>\n",
       "      <th>total sulfur dioxide</th>\n",
       "      <td>6497.0</td>\n",
       "      <td>115.744574</td>\n",
       "      <td>56.521855</td>\n",
       "      <td>6.00000</td>\n",
       "      <td>77.00000</td>\n",
       "      <td>118.00000</td>\n",
       "      <td>156.00000</td>\n",
       "      <td>440.00000</td>\n",
       "    </tr>\n",
       "    <tr>\n",
       "      <th>density</th>\n",
       "      <td>6497.0</td>\n",
       "      <td>0.994697</td>\n",
       "      <td>0.002999</td>\n",
       "      <td>0.98711</td>\n",
       "      <td>0.99234</td>\n",
       "      <td>0.99489</td>\n",
       "      <td>0.99699</td>\n",
       "      <td>1.03898</td>\n",
       "    </tr>\n",
       "    <tr>\n",
       "      <th>pH</th>\n",
       "      <td>6488.0</td>\n",
       "      <td>3.218395</td>\n",
       "      <td>0.160748</td>\n",
       "      <td>2.72000</td>\n",
       "      <td>3.11000</td>\n",
       "      <td>3.21000</td>\n",
       "      <td>3.32000</td>\n",
       "      <td>4.01000</td>\n",
       "    </tr>\n",
       "    <tr>\n",
       "      <th>sulphates</th>\n",
       "      <td>6493.0</td>\n",
       "      <td>0.531215</td>\n",
       "      <td>0.148814</td>\n",
       "      <td>0.22000</td>\n",
       "      <td>0.43000</td>\n",
       "      <td>0.51000</td>\n",
       "      <td>0.60000</td>\n",
       "      <td>2.00000</td>\n",
       "    </tr>\n",
       "    <tr>\n",
       "      <th>alcohol</th>\n",
       "      <td>6497.0</td>\n",
       "      <td>10.491801</td>\n",
       "      <td>1.192712</td>\n",
       "      <td>8.00000</td>\n",
       "      <td>9.50000</td>\n",
       "      <td>10.30000</td>\n",
       "      <td>11.30000</td>\n",
       "      <td>14.90000</td>\n",
       "    </tr>\n",
       "    <tr>\n",
       "      <th>quality</th>\n",
       "      <td>6497.0</td>\n",
       "      <td>5.818378</td>\n",
       "      <td>0.873255</td>\n",
       "      <td>3.00000</td>\n",
       "      <td>5.00000</td>\n",
       "      <td>6.00000</td>\n",
       "      <td>6.00000</td>\n",
       "      <td>9.00000</td>\n",
       "    </tr>\n",
       "  </tbody>\n",
       "</table>\n",
       "</div>"
      ],
      "text/plain": [
       "                       count        mean        std      min       25%  \\\n",
       "fixed acidity         6487.0    7.216579   1.296750  3.80000   6.40000   \n",
       "volatile acidity      6489.0    0.339691   0.164649  0.08000   0.23000   \n",
       "citric acid           6494.0    0.318722   0.145265  0.00000   0.25000   \n",
       "residual sugar        6495.0    5.444326   4.758125  0.60000   1.80000   \n",
       "chlorides             6495.0    0.056042   0.035036  0.00900   0.03800   \n",
       "free sulfur dioxide   6497.0   30.525319  17.749400  1.00000  17.00000   \n",
       "total sulfur dioxide  6497.0  115.744574  56.521855  6.00000  77.00000   \n",
       "density               6497.0    0.994697   0.002999  0.98711   0.99234   \n",
       "pH                    6488.0    3.218395   0.160748  2.72000   3.11000   \n",
       "sulphates             6493.0    0.531215   0.148814  0.22000   0.43000   \n",
       "alcohol               6497.0   10.491801   1.192712  8.00000   9.50000   \n",
       "quality               6497.0    5.818378   0.873255  3.00000   5.00000   \n",
       "\n",
       "                            50%        75%        max  \n",
       "fixed acidity           7.00000    7.70000   15.90000  \n",
       "volatile acidity        0.29000    0.40000    1.58000  \n",
       "citric acid             0.31000    0.39000    1.66000  \n",
       "residual sugar          3.00000    8.10000   65.80000  \n",
       "chlorides               0.04700    0.06500    0.61100  \n",
       "free sulfur dioxide    29.00000   41.00000  289.00000  \n",
       "total sulfur dioxide  118.00000  156.00000  440.00000  \n",
       "density                 0.99489    0.99699    1.03898  \n",
       "pH                      3.21000    3.32000    4.01000  \n",
       "sulphates               0.51000    0.60000    2.00000  \n",
       "alcohol                10.30000   11.30000   14.90000  \n",
       "quality                 6.00000    6.00000    9.00000  "
      ]
     },
     "execution_count": 2,
     "metadata": {},
     "output_type": "execute_result"
    }
   ],
   "source": [
    "data.describe().T"
   ]
  },
  {
   "cell_type": "code",
   "execution_count": 3,
   "metadata": {},
   "outputs": [
    {
     "name": "stdout",
     "output_type": "stream",
     "text": [
      "<class 'pandas.core.frame.DataFrame'>\n",
      "RangeIndex: 6497 entries, 0 to 6496\n",
      "Data columns (total 13 columns):\n",
      " #   Column                Non-Null Count  Dtype  \n",
      "---  ------                --------------  -----  \n",
      " 0   type                  6497 non-null   object \n",
      " 1   fixed acidity         6487 non-null   float64\n",
      " 2   volatile acidity      6489 non-null   float64\n",
      " 3   citric acid           6494 non-null   float64\n",
      " 4   residual sugar        6495 non-null   float64\n",
      " 5   chlorides             6495 non-null   float64\n",
      " 6   free sulfur dioxide   6497 non-null   float64\n",
      " 7   total sulfur dioxide  6497 non-null   float64\n",
      " 8   density               6497 non-null   float64\n",
      " 9   pH                    6488 non-null   float64\n",
      " 10  sulphates             6493 non-null   float64\n",
      " 11  alcohol               6497 non-null   float64\n",
      " 12  quality               6497 non-null   int64  \n",
      "dtypes: float64(11), int64(1), object(1)\n",
      "memory usage: 660.0+ KB\n"
     ]
    }
   ],
   "source": [
    "data.info()"
   ]
  },
  {
   "cell_type": "code",
   "execution_count": 4,
   "metadata": {},
   "outputs": [
    {
     "data": {
      "text/html": [
       "<div>\n",
       "<style scoped>\n",
       "    .dataframe tbody tr th:only-of-type {\n",
       "        vertical-align: middle;\n",
       "    }\n",
       "\n",
       "    .dataframe tbody tr th {\n",
       "        vertical-align: top;\n",
       "    }\n",
       "\n",
       "    .dataframe thead th {\n",
       "        text-align: right;\n",
       "    }\n",
       "</style>\n",
       "<table border=\"1\" class=\"dataframe\">\n",
       "  <thead>\n",
       "    <tr style=\"text-align: right;\">\n",
       "      <th></th>\n",
       "      <th>type</th>\n",
       "      <th>fixed acidity</th>\n",
       "      <th>volatile acidity</th>\n",
       "      <th>citric acid</th>\n",
       "      <th>residual sugar</th>\n",
       "      <th>chlorides</th>\n",
       "      <th>free sulfur dioxide</th>\n",
       "      <th>total sulfur dioxide</th>\n",
       "      <th>density</th>\n",
       "      <th>pH</th>\n",
       "      <th>sulphates</th>\n",
       "      <th>alcohol</th>\n",
       "      <th>quality</th>\n",
       "    </tr>\n",
       "  </thead>\n",
       "  <tbody>\n",
       "    <tr>\n",
       "      <th>0</th>\n",
       "      <td>white</td>\n",
       "      <td>7.0</td>\n",
       "      <td>0.27</td>\n",
       "      <td>0.36</td>\n",
       "      <td>20.7</td>\n",
       "      <td>0.045</td>\n",
       "      <td>45.0</td>\n",
       "      <td>170.0</td>\n",
       "      <td>1.0010</td>\n",
       "      <td>3.00</td>\n",
       "      <td>0.45</td>\n",
       "      <td>8.8</td>\n",
       "      <td>6</td>\n",
       "    </tr>\n",
       "    <tr>\n",
       "      <th>1</th>\n",
       "      <td>white</td>\n",
       "      <td>6.3</td>\n",
       "      <td>0.30</td>\n",
       "      <td>0.34</td>\n",
       "      <td>1.6</td>\n",
       "      <td>0.049</td>\n",
       "      <td>14.0</td>\n",
       "      <td>132.0</td>\n",
       "      <td>0.9940</td>\n",
       "      <td>3.30</td>\n",
       "      <td>0.49</td>\n",
       "      <td>9.5</td>\n",
       "      <td>6</td>\n",
       "    </tr>\n",
       "    <tr>\n",
       "      <th>2</th>\n",
       "      <td>white</td>\n",
       "      <td>8.1</td>\n",
       "      <td>0.28</td>\n",
       "      <td>0.40</td>\n",
       "      <td>6.9</td>\n",
       "      <td>0.050</td>\n",
       "      <td>30.0</td>\n",
       "      <td>97.0</td>\n",
       "      <td>0.9951</td>\n",
       "      <td>3.26</td>\n",
       "      <td>0.44</td>\n",
       "      <td>10.1</td>\n",
       "      <td>6</td>\n",
       "    </tr>\n",
       "    <tr>\n",
       "      <th>3</th>\n",
       "      <td>white</td>\n",
       "      <td>7.2</td>\n",
       "      <td>0.23</td>\n",
       "      <td>0.32</td>\n",
       "      <td>8.5</td>\n",
       "      <td>0.058</td>\n",
       "      <td>47.0</td>\n",
       "      <td>186.0</td>\n",
       "      <td>0.9956</td>\n",
       "      <td>3.19</td>\n",
       "      <td>0.40</td>\n",
       "      <td>9.9</td>\n",
       "      <td>6</td>\n",
       "    </tr>\n",
       "    <tr>\n",
       "      <th>4</th>\n",
       "      <td>white</td>\n",
       "      <td>7.2</td>\n",
       "      <td>0.23</td>\n",
       "      <td>0.32</td>\n",
       "      <td>8.5</td>\n",
       "      <td>0.058</td>\n",
       "      <td>47.0</td>\n",
       "      <td>186.0</td>\n",
       "      <td>0.9956</td>\n",
       "      <td>3.19</td>\n",
       "      <td>0.40</td>\n",
       "      <td>9.9</td>\n",
       "      <td>6</td>\n",
       "    </tr>\n",
       "  </tbody>\n",
       "</table>\n",
       "</div>"
      ],
      "text/plain": [
       "    type  fixed acidity  volatile acidity  citric acid  residual sugar  \\\n",
       "0  white            7.0              0.27         0.36            20.7   \n",
       "1  white            6.3              0.30         0.34             1.6   \n",
       "2  white            8.1              0.28         0.40             6.9   \n",
       "3  white            7.2              0.23         0.32             8.5   \n",
       "4  white            7.2              0.23         0.32             8.5   \n",
       "\n",
       "   chlorides  free sulfur dioxide  total sulfur dioxide  density    pH  \\\n",
       "0      0.045                 45.0                 170.0   1.0010  3.00   \n",
       "1      0.049                 14.0                 132.0   0.9940  3.30   \n",
       "2      0.050                 30.0                  97.0   0.9951  3.26   \n",
       "3      0.058                 47.0                 186.0   0.9956  3.19   \n",
       "4      0.058                 47.0                 186.0   0.9956  3.19   \n",
       "\n",
       "   sulphates  alcohol  quality  \n",
       "0       0.45      8.8        6  \n",
       "1       0.49      9.5        6  \n",
       "2       0.44     10.1        6  \n",
       "3       0.40      9.9        6  \n",
       "4       0.40      9.9        6  "
      ]
     },
     "execution_count": 4,
     "metadata": {},
     "output_type": "execute_result"
    }
   ],
   "source": [
    "data.head()"
   ]
  },
  {
   "cell_type": "markdown",
   "metadata": {},
   "source": [
    "## deal with missing values"
   ]
  },
  {
   "cell_type": "code",
   "execution_count": 5,
   "metadata": {},
   "outputs": [
    {
     "data": {
      "text/plain": [
       "34"
      ]
     },
     "execution_count": 5,
     "metadata": {},
     "output_type": "execute_result"
    }
   ],
   "source": [
    "# deal with missing values\n",
    "data.isnull().any(axis=1).sum()"
   ]
  },
  {
   "cell_type": "code",
   "execution_count": 6,
   "metadata": {},
   "outputs": [
    {
     "name": "stdout",
     "output_type": "stream",
     "text": [
      "<class 'pandas.core.frame.DataFrame'>\n",
      "Int64Index: 6463 entries, 0 to 6496\n",
      "Data columns (total 13 columns):\n",
      " #   Column                Non-Null Count  Dtype  \n",
      "---  ------                --------------  -----  \n",
      " 0   type                  6463 non-null   object \n",
      " 1   fixed acidity         6463 non-null   float64\n",
      " 2   volatile acidity      6463 non-null   float64\n",
      " 3   citric acid           6463 non-null   float64\n",
      " 4   residual sugar        6463 non-null   float64\n",
      " 5   chlorides             6463 non-null   float64\n",
      " 6   free sulfur dioxide   6463 non-null   float64\n",
      " 7   total sulfur dioxide  6463 non-null   float64\n",
      " 8   density               6463 non-null   float64\n",
      " 9   pH                    6463 non-null   float64\n",
      " 10  sulphates             6463 non-null   float64\n",
      " 11  alcohol               6463 non-null   float64\n",
      " 12  quality               6463 non-null   int64  \n",
      "dtypes: float64(11), int64(1), object(1)\n",
      "memory usage: 706.9+ KB\n"
     ]
    }
   ],
   "source": [
    "# Since the number of rows with missing values is relatively small, we just drop those rows\n",
    "data.dropna(inplace=True)\n",
    "data.info()"
   ]
  },
  {
   "cell_type": "code",
   "execution_count": 7,
   "metadata": {},
   "outputs": [
    {
     "data": {
      "text/html": [
       "<div>\n",
       "<style scoped>\n",
       "    .dataframe tbody tr th:only-of-type {\n",
       "        vertical-align: middle;\n",
       "    }\n",
       "\n",
       "    .dataframe tbody tr th {\n",
       "        vertical-align: top;\n",
       "    }\n",
       "\n",
       "    .dataframe thead th {\n",
       "        text-align: right;\n",
       "    }\n",
       "</style>\n",
       "<table border=\"1\" class=\"dataframe\">\n",
       "  <thead>\n",
       "    <tr style=\"text-align: right;\">\n",
       "      <th></th>\n",
       "      <th>type</th>\n",
       "      <th>fixed acidity</th>\n",
       "      <th>volatile acidity</th>\n",
       "      <th>citric acid</th>\n",
       "      <th>residual sugar</th>\n",
       "      <th>chlorides</th>\n",
       "      <th>free sulfur dioxide</th>\n",
       "      <th>total sulfur dioxide</th>\n",
       "      <th>density</th>\n",
       "      <th>pH</th>\n",
       "      <th>sulphates</th>\n",
       "      <th>alcohol</th>\n",
       "      <th>quality</th>\n",
       "    </tr>\n",
       "  </thead>\n",
       "  <tbody>\n",
       "    <tr>\n",
       "      <th>0</th>\n",
       "      <td>white</td>\n",
       "      <td>-0.167786</td>\n",
       "      <td>-0.422710</td>\n",
       "      <td>0.283959</td>\n",
       "      <td>3.207420</td>\n",
       "      <td>-0.315228</td>\n",
       "      <td>0.815609</td>\n",
       "      <td>0.960779</td>\n",
       "      <td>2.099926</td>\n",
       "      <td>-1.359160</td>\n",
       "      <td>-0.544987</td>\n",
       "      <td>-1.418922</td>\n",
       "      <td>6</td>\n",
       "    </tr>\n",
       "    <tr>\n",
       "      <th>1</th>\n",
       "      <td>white</td>\n",
       "      <td>-0.707155</td>\n",
       "      <td>-0.240479</td>\n",
       "      <td>0.146257</td>\n",
       "      <td>-0.808151</td>\n",
       "      <td>-0.201180</td>\n",
       "      <td>-0.930138</td>\n",
       "      <td>0.288479</td>\n",
       "      <td>-0.232465</td>\n",
       "      <td>0.508399</td>\n",
       "      <td>-0.276354</td>\n",
       "      <td>-0.832184</td>\n",
       "      <td>6</td>\n",
       "    </tr>\n",
       "    <tr>\n",
       "      <th>2</th>\n",
       "      <td>white</td>\n",
       "      <td>0.679794</td>\n",
       "      <td>-0.361966</td>\n",
       "      <td>0.559363</td>\n",
       "      <td>0.306117</td>\n",
       "      <td>-0.172668</td>\n",
       "      <td>-0.029107</td>\n",
       "      <td>-0.330745</td>\n",
       "      <td>0.134053</td>\n",
       "      <td>0.259391</td>\n",
       "      <td>-0.612146</td>\n",
       "      <td>-0.329265</td>\n",
       "      <td>6</td>\n",
       "    </tr>\n",
       "    <tr>\n",
       "      <th>3</th>\n",
       "      <td>white</td>\n",
       "      <td>-0.013681</td>\n",
       "      <td>-0.665684</td>\n",
       "      <td>0.008554</td>\n",
       "      <td>0.642500</td>\n",
       "      <td>0.055427</td>\n",
       "      <td>0.928238</td>\n",
       "      <td>1.243853</td>\n",
       "      <td>0.300653</td>\n",
       "      <td>-0.176373</td>\n",
       "      <td>-0.880779</td>\n",
       "      <td>-0.496905</td>\n",
       "      <td>6</td>\n",
       "    </tr>\n",
       "    <tr>\n",
       "      <th>4</th>\n",
       "      <td>white</td>\n",
       "      <td>-0.013681</td>\n",
       "      <td>-0.665684</td>\n",
       "      <td>0.008554</td>\n",
       "      <td>0.642500</td>\n",
       "      <td>0.055427</td>\n",
       "      <td>0.928238</td>\n",
       "      <td>1.243853</td>\n",
       "      <td>0.300653</td>\n",
       "      <td>-0.176373</td>\n",
       "      <td>-0.880779</td>\n",
       "      <td>-0.496905</td>\n",
       "      <td>6</td>\n",
       "    </tr>\n",
       "  </tbody>\n",
       "</table>\n",
       "</div>"
      ],
      "text/plain": [
       "    type  fixed acidity  volatile acidity  citric acid  residual sugar  \\\n",
       "0  white      -0.167786         -0.422710     0.283959        3.207420   \n",
       "1  white      -0.707155         -0.240479     0.146257       -0.808151   \n",
       "2  white       0.679794         -0.361966     0.559363        0.306117   \n",
       "3  white      -0.013681         -0.665684     0.008554        0.642500   \n",
       "4  white      -0.013681         -0.665684     0.008554        0.642500   \n",
       "\n",
       "   chlorides  free sulfur dioxide  total sulfur dioxide   density        pH  \\\n",
       "0  -0.315228             0.815609              0.960779  2.099926 -1.359160   \n",
       "1  -0.201180            -0.930138              0.288479 -0.232465  0.508399   \n",
       "2  -0.172668            -0.029107             -0.330745  0.134053  0.259391   \n",
       "3   0.055427             0.928238              1.243853  0.300653 -0.176373   \n",
       "4   0.055427             0.928238              1.243853  0.300653 -0.176373   \n",
       "\n",
       "   sulphates   alcohol  quality  \n",
       "0  -0.544987 -1.418922        6  \n",
       "1  -0.276354 -0.832184        6  \n",
       "2  -0.612146 -0.329265        6  \n",
       "3  -0.880779 -0.496905        6  \n",
       "4  -0.880779 -0.496905        6  "
      ]
     },
     "execution_count": 7,
     "metadata": {},
     "output_type": "execute_result"
    }
   ],
   "source": [
    "# Normalize the numeric features\n",
    "from sklearn.preprocessing import StandardScaler\n",
    "num_cols = data.columns.drop(['type', 'quality'])\n",
    "scaler = StandardScaler()\n",
    "data[num_cols] = scaler.fit_transform(data[num_cols])\n",
    "data.head()"
   ]
  },
  {
   "cell_type": "markdown",
   "metadata": {},
   "source": [
    "## Data processing"
   ]
  },
  {
   "cell_type": "code",
   "execution_count": 8,
   "metadata": {},
   "outputs": [
    {
     "data": {
      "text/plain": [
       "6    2820\n",
       "5    2128\n",
       "7    1074\n",
       "4     214\n",
       "8     192\n",
       "3      30\n",
       "9       5\n",
       "Name: quality, dtype: int64"
      ]
     },
     "execution_count": 8,
     "metadata": {},
     "output_type": "execute_result"
    }
   ],
   "source": [
    "# check quality distribution\n",
    "data['quality'].value_counts()"
   ]
  },
  {
   "cell_type": "code",
   "execution_count": 9,
   "metadata": {},
   "outputs": [
    {
     "data": {
      "text/plain": [
       "6    2820\n",
       "5    2128\n",
       "7    1074\n",
       "4     214\n",
       "8     192\n",
       "3      30\n",
       "Name: quality, dtype: int64"
      ]
     },
     "execution_count": 9,
     "metadata": {},
     "output_type": "execute_result"
    }
   ],
   "source": [
    "# Since the number of instances belong to quality == 9 is very very small, technically we don't believe there's a way to \n",
    "# train an effective model to predict it. So we're going to drop them\n",
    "indexNames = data[data['quality'] == 9].index\n",
    "data.drop(indexNames , inplace=True)\n",
    "data['quality'].value_counts()"
   ]
  },
  {
   "cell_type": "code",
   "execution_count": 10,
   "metadata": {},
   "outputs": [
    {
     "data": {
      "text/html": [
       "<div>\n",
       "<style scoped>\n",
       "    .dataframe tbody tr th:only-of-type {\n",
       "        vertical-align: middle;\n",
       "    }\n",
       "\n",
       "    .dataframe tbody tr th {\n",
       "        vertical-align: top;\n",
       "    }\n",
       "\n",
       "    .dataframe thead th {\n",
       "        text-align: right;\n",
       "    }\n",
       "</style>\n",
       "<table border=\"1\" class=\"dataframe\">\n",
       "  <thead>\n",
       "    <tr style=\"text-align: right;\">\n",
       "      <th></th>\n",
       "      <th>fixed acidity</th>\n",
       "      <th>volatile acidity</th>\n",
       "      <th>citric acid</th>\n",
       "      <th>residual sugar</th>\n",
       "      <th>chlorides</th>\n",
       "      <th>free sulfur dioxide</th>\n",
       "      <th>total sulfur dioxide</th>\n",
       "      <th>density</th>\n",
       "      <th>pH</th>\n",
       "      <th>sulphates</th>\n",
       "      <th>alcohol</th>\n",
       "      <th>quality</th>\n",
       "      <th>type_red</th>\n",
       "      <th>type_white</th>\n",
       "    </tr>\n",
       "  </thead>\n",
       "  <tbody>\n",
       "    <tr>\n",
       "      <th>0</th>\n",
       "      <td>-0.167786</td>\n",
       "      <td>-0.422710</td>\n",
       "      <td>0.283959</td>\n",
       "      <td>3.207420</td>\n",
       "      <td>-0.315228</td>\n",
       "      <td>0.815609</td>\n",
       "      <td>0.960779</td>\n",
       "      <td>2.099926</td>\n",
       "      <td>-1.359160</td>\n",
       "      <td>-0.544987</td>\n",
       "      <td>-1.418922</td>\n",
       "      <td>6</td>\n",
       "      <td>0</td>\n",
       "      <td>1</td>\n",
       "    </tr>\n",
       "    <tr>\n",
       "      <th>1</th>\n",
       "      <td>-0.707155</td>\n",
       "      <td>-0.240479</td>\n",
       "      <td>0.146257</td>\n",
       "      <td>-0.808151</td>\n",
       "      <td>-0.201180</td>\n",
       "      <td>-0.930138</td>\n",
       "      <td>0.288479</td>\n",
       "      <td>-0.232465</td>\n",
       "      <td>0.508399</td>\n",
       "      <td>-0.276354</td>\n",
       "      <td>-0.832184</td>\n",
       "      <td>6</td>\n",
       "      <td>0</td>\n",
       "      <td>1</td>\n",
       "    </tr>\n",
       "    <tr>\n",
       "      <th>2</th>\n",
       "      <td>0.679794</td>\n",
       "      <td>-0.361966</td>\n",
       "      <td>0.559363</td>\n",
       "      <td>0.306117</td>\n",
       "      <td>-0.172668</td>\n",
       "      <td>-0.029107</td>\n",
       "      <td>-0.330745</td>\n",
       "      <td>0.134053</td>\n",
       "      <td>0.259391</td>\n",
       "      <td>-0.612146</td>\n",
       "      <td>-0.329265</td>\n",
       "      <td>6</td>\n",
       "      <td>0</td>\n",
       "      <td>1</td>\n",
       "    </tr>\n",
       "    <tr>\n",
       "      <th>3</th>\n",
       "      <td>-0.013681</td>\n",
       "      <td>-0.665684</td>\n",
       "      <td>0.008554</td>\n",
       "      <td>0.642500</td>\n",
       "      <td>0.055427</td>\n",
       "      <td>0.928238</td>\n",
       "      <td>1.243853</td>\n",
       "      <td>0.300653</td>\n",
       "      <td>-0.176373</td>\n",
       "      <td>-0.880779</td>\n",
       "      <td>-0.496905</td>\n",
       "      <td>6</td>\n",
       "      <td>0</td>\n",
       "      <td>1</td>\n",
       "    </tr>\n",
       "    <tr>\n",
       "      <th>4</th>\n",
       "      <td>-0.013681</td>\n",
       "      <td>-0.665684</td>\n",
       "      <td>0.008554</td>\n",
       "      <td>0.642500</td>\n",
       "      <td>0.055427</td>\n",
       "      <td>0.928238</td>\n",
       "      <td>1.243853</td>\n",
       "      <td>0.300653</td>\n",
       "      <td>-0.176373</td>\n",
       "      <td>-0.880779</td>\n",
       "      <td>-0.496905</td>\n",
       "      <td>6</td>\n",
       "      <td>0</td>\n",
       "      <td>1</td>\n",
       "    </tr>\n",
       "    <tr>\n",
       "      <th>...</th>\n",
       "      <td>...</td>\n",
       "      <td>...</td>\n",
       "      <td>...</td>\n",
       "      <td>...</td>\n",
       "      <td>...</td>\n",
       "      <td>...</td>\n",
       "      <td>...</td>\n",
       "      <td>...</td>\n",
       "      <td>...</td>\n",
       "      <td>...</td>\n",
       "      <td>...</td>\n",
       "      <td>...</td>\n",
       "      <td>...</td>\n",
       "      <td>...</td>\n",
       "    </tr>\n",
       "    <tr>\n",
       "      <th>6491</th>\n",
       "      <td>-0.321892</td>\n",
       "      <td>1.703315</td>\n",
       "      <td>-1.643871</td>\n",
       "      <td>-0.745079</td>\n",
       "      <td>0.340545</td>\n",
       "      <td>-0.141736</td>\n",
       "      <td>-1.374580</td>\n",
       "      <td>0.603864</td>\n",
       "      <td>1.255423</td>\n",
       "      <td>1.939871</td>\n",
       "      <td>-0.832184</td>\n",
       "      <td>6</td>\n",
       "      <td>1</td>\n",
       "      <td>0</td>\n",
       "    </tr>\n",
       "    <tr>\n",
       "      <th>6492</th>\n",
       "      <td>-0.784208</td>\n",
       "      <td>1.581828</td>\n",
       "      <td>-1.643871</td>\n",
       "      <td>-0.724055</td>\n",
       "      <td>0.967807</td>\n",
       "      <td>0.083522</td>\n",
       "      <td>-1.268427</td>\n",
       "      <td>0.067414</td>\n",
       "      <td>1.442179</td>\n",
       "      <td>0.328071</td>\n",
       "      <td>0.006014</td>\n",
       "      <td>5</td>\n",
       "      <td>1</td>\n",
       "      <td>0</td>\n",
       "    </tr>\n",
       "    <tr>\n",
       "      <th>6494</th>\n",
       "      <td>-0.707155</td>\n",
       "      <td>1.035136</td>\n",
       "      <td>-1.299616</td>\n",
       "      <td>-0.660984</td>\n",
       "      <td>0.568640</td>\n",
       "      <td>-0.085421</td>\n",
       "      <td>-1.339195</td>\n",
       "      <td>0.347301</td>\n",
       "      <td>1.255423</td>\n",
       "      <td>1.469762</td>\n",
       "      <td>0.425113</td>\n",
       "      <td>6</td>\n",
       "      <td>1</td>\n",
       "      <td>0</td>\n",
       "    </tr>\n",
       "    <tr>\n",
       "      <th>6495</th>\n",
       "      <td>-1.015366</td>\n",
       "      <td>1.855174</td>\n",
       "      <td>-1.368467</td>\n",
       "      <td>-0.724055</td>\n",
       "      <td>0.540129</td>\n",
       "      <td>0.083522</td>\n",
       "      <td>-1.268427</td>\n",
       "      <td>0.257337</td>\n",
       "      <td>2.189203</td>\n",
       "      <td>1.201129</td>\n",
       "      <td>-0.245446</td>\n",
       "      <td>5</td>\n",
       "      <td>1</td>\n",
       "      <td>0</td>\n",
       "    </tr>\n",
       "    <tr>\n",
       "      <th>6496</th>\n",
       "      <td>-0.938313</td>\n",
       "      <td>-0.179735</td>\n",
       "      <td>1.041320</td>\n",
       "      <td>-0.387673</td>\n",
       "      <td>0.312034</td>\n",
       "      <td>-0.704880</td>\n",
       "      <td>-1.303811</td>\n",
       "      <td>0.264001</td>\n",
       "      <td>1.068667</td>\n",
       "      <td>0.865337</td>\n",
       "      <td>0.425113</td>\n",
       "      <td>6</td>\n",
       "      <td>1</td>\n",
       "      <td>0</td>\n",
       "    </tr>\n",
       "  </tbody>\n",
       "</table>\n",
       "<p>6458 rows × 14 columns</p>\n",
       "</div>"
      ],
      "text/plain": [
       "      fixed acidity  volatile acidity  citric acid  residual sugar  chlorides  \\\n",
       "0         -0.167786         -0.422710     0.283959        3.207420  -0.315228   \n",
       "1         -0.707155         -0.240479     0.146257       -0.808151  -0.201180   \n",
       "2          0.679794         -0.361966     0.559363        0.306117  -0.172668   \n",
       "3         -0.013681         -0.665684     0.008554        0.642500   0.055427   \n",
       "4         -0.013681         -0.665684     0.008554        0.642500   0.055427   \n",
       "...             ...               ...          ...             ...        ...   \n",
       "6491      -0.321892          1.703315    -1.643871       -0.745079   0.340545   \n",
       "6492      -0.784208          1.581828    -1.643871       -0.724055   0.967807   \n",
       "6494      -0.707155          1.035136    -1.299616       -0.660984   0.568640   \n",
       "6495      -1.015366          1.855174    -1.368467       -0.724055   0.540129   \n",
       "6496      -0.938313         -0.179735     1.041320       -0.387673   0.312034   \n",
       "\n",
       "      free sulfur dioxide  total sulfur dioxide   density        pH  \\\n",
       "0                0.815609              0.960779  2.099926 -1.359160   \n",
       "1               -0.930138              0.288479 -0.232465  0.508399   \n",
       "2               -0.029107             -0.330745  0.134053  0.259391   \n",
       "3                0.928238              1.243853  0.300653 -0.176373   \n",
       "4                0.928238              1.243853  0.300653 -0.176373   \n",
       "...                   ...                   ...       ...       ...   \n",
       "6491            -0.141736             -1.374580  0.603864  1.255423   \n",
       "6492             0.083522             -1.268427  0.067414  1.442179   \n",
       "6494            -0.085421             -1.339195  0.347301  1.255423   \n",
       "6495             0.083522             -1.268427  0.257337  2.189203   \n",
       "6496            -0.704880             -1.303811  0.264001  1.068667   \n",
       "\n",
       "      sulphates   alcohol  quality  type_red  type_white  \n",
       "0     -0.544987 -1.418922        6         0           1  \n",
       "1     -0.276354 -0.832184        6         0           1  \n",
       "2     -0.612146 -0.329265        6         0           1  \n",
       "3     -0.880779 -0.496905        6         0           1  \n",
       "4     -0.880779 -0.496905        6         0           1  \n",
       "...         ...       ...      ...       ...         ...  \n",
       "6491   1.939871 -0.832184        6         1           0  \n",
       "6492   0.328071  0.006014        5         1           0  \n",
       "6494   1.469762  0.425113        6         1           0  \n",
       "6495   1.201129 -0.245446        5         1           0  \n",
       "6496   0.865337  0.425113        6         1           0  \n",
       "\n",
       "[6458 rows x 14 columns]"
      ]
     },
     "execution_count": 10,
     "metadata": {},
     "output_type": "execute_result"
    }
   ],
   "source": [
    "# Encoding the type of wine\n",
    "data = pd.get_dummies(data)\n",
    "data"
   ]
  },
  {
   "cell_type": "markdown",
   "metadata": {},
   "source": [
    "## Generate datasets for white and red wine"
   ]
  },
  {
   "cell_type": "code",
   "execution_count": 11,
   "metadata": {},
   "outputs": [
    {
     "data": {
      "text/html": [
       "<div>\n",
       "<style scoped>\n",
       "    .dataframe tbody tr th:only-of-type {\n",
       "        vertical-align: middle;\n",
       "    }\n",
       "\n",
       "    .dataframe tbody tr th {\n",
       "        vertical-align: top;\n",
       "    }\n",
       "\n",
       "    .dataframe thead th {\n",
       "        text-align: right;\n",
       "    }\n",
       "</style>\n",
       "<table border=\"1\" class=\"dataframe\">\n",
       "  <thead>\n",
       "    <tr style=\"text-align: right;\">\n",
       "      <th></th>\n",
       "      <th>fixed acidity</th>\n",
       "      <th>volatile acidity</th>\n",
       "      <th>citric acid</th>\n",
       "      <th>residual sugar</th>\n",
       "      <th>chlorides</th>\n",
       "      <th>free sulfur dioxide</th>\n",
       "      <th>total sulfur dioxide</th>\n",
       "      <th>density</th>\n",
       "      <th>pH</th>\n",
       "      <th>sulphates</th>\n",
       "      <th>alcohol</th>\n",
       "      <th>quality</th>\n",
       "    </tr>\n",
       "  </thead>\n",
       "  <tbody>\n",
       "    <tr>\n",
       "      <th>0</th>\n",
       "      <td>0.140425</td>\n",
       "      <td>2.189264</td>\n",
       "      <td>-2.194680</td>\n",
       "      <td>-0.745079</td>\n",
       "      <td>0.568640</td>\n",
       "      <td>-1.099081</td>\n",
       "      <td>-1.445348</td>\n",
       "      <td>1.033690</td>\n",
       "      <td>1.815691</td>\n",
       "      <td>0.193754</td>\n",
       "      <td>-0.916004</td>\n",
       "      <td>5</td>\n",
       "    </tr>\n",
       "    <tr>\n",
       "      <th>1</th>\n",
       "      <td>0.448636</td>\n",
       "      <td>3.282648</td>\n",
       "      <td>-2.194680</td>\n",
       "      <td>-0.597912</td>\n",
       "      <td>1.195902</td>\n",
       "      <td>-0.310679</td>\n",
       "      <td>-0.861508</td>\n",
       "      <td>0.700491</td>\n",
       "      <td>-0.114121</td>\n",
       "      <td>0.999654</td>\n",
       "      <td>-0.580725</td>\n",
       "      <td>5</td>\n",
       "    </tr>\n",
       "    <tr>\n",
       "      <th>2</th>\n",
       "      <td>0.448636</td>\n",
       "      <td>2.553725</td>\n",
       "      <td>-1.919275</td>\n",
       "      <td>-0.660984</td>\n",
       "      <td>1.024830</td>\n",
       "      <td>-0.873823</td>\n",
       "      <td>-1.091506</td>\n",
       "      <td>0.767131</td>\n",
       "      <td>0.259391</td>\n",
       "      <td>0.798179</td>\n",
       "      <td>-0.580725</td>\n",
       "      <td>5</td>\n",
       "    </tr>\n",
       "    <tr>\n",
       "      <th>3</th>\n",
       "      <td>3.068428</td>\n",
       "      <td>-0.361966</td>\n",
       "      <td>1.660980</td>\n",
       "      <td>-0.745079</td>\n",
       "      <td>0.540129</td>\n",
       "      <td>-0.761194</td>\n",
       "      <td>-0.985353</td>\n",
       "      <td>1.100330</td>\n",
       "      <td>-0.363128</td>\n",
       "      <td>0.328071</td>\n",
       "      <td>-0.580725</td>\n",
       "      <td>6</td>\n",
       "    </tr>\n",
       "    <tr>\n",
       "      <th>4</th>\n",
       "      <td>0.140425</td>\n",
       "      <td>2.189264</td>\n",
       "      <td>-2.194680</td>\n",
       "      <td>-0.745079</td>\n",
       "      <td>0.568640</td>\n",
       "      <td>-1.099081</td>\n",
       "      <td>-1.445348</td>\n",
       "      <td>1.033690</td>\n",
       "      <td>1.815691</td>\n",
       "      <td>0.193754</td>\n",
       "      <td>-0.916004</td>\n",
       "      <td>5</td>\n",
       "    </tr>\n",
       "  </tbody>\n",
       "</table>\n",
       "</div>"
      ],
      "text/plain": [
       "   fixed acidity  volatile acidity  citric acid  residual sugar  chlorides  \\\n",
       "0       0.140425          2.189264    -2.194680       -0.745079   0.568640   \n",
       "1       0.448636          3.282648    -2.194680       -0.597912   1.195902   \n",
       "2       0.448636          2.553725    -1.919275       -0.660984   1.024830   \n",
       "3       3.068428         -0.361966     1.660980       -0.745079   0.540129   \n",
       "4       0.140425          2.189264    -2.194680       -0.745079   0.568640   \n",
       "\n",
       "   free sulfur dioxide  total sulfur dioxide   density        pH  sulphates  \\\n",
       "0            -1.099081             -1.445348  1.033690  1.815691   0.193754   \n",
       "1            -0.310679             -0.861508  0.700491 -0.114121   0.999654   \n",
       "2            -0.873823             -1.091506  0.767131  0.259391   0.798179   \n",
       "3            -0.761194             -0.985353  1.100330 -0.363128   0.328071   \n",
       "4            -1.099081             -1.445348  1.033690  1.815691   0.193754   \n",
       "\n",
       "    alcohol  quality  \n",
       "0 -0.916004        5  \n",
       "1 -0.580725        5  \n",
       "2 -0.580725        5  \n",
       "3 -0.580725        6  \n",
       "4 -0.916004        5  "
      ]
     },
     "execution_count": 11,
     "metadata": {},
     "output_type": "execute_result"
    }
   ],
   "source": [
    "# Create two subsets -- redwine subset && whitewine subset\n",
    "data_redwine = data[data['type_red'] == 1]\n",
    "data_redwine.drop(['type_red', 'type_white'], axis=1, inplace=True)\n",
    "data_redwine = data_redwine.reset_index(drop=True)\n",
    "data_redwine.head()\n"
   ]
  },
  {
   "cell_type": "code",
   "execution_count": 12,
   "metadata": {},
   "outputs": [
    {
     "data": {
      "text/html": [
       "<div>\n",
       "<style scoped>\n",
       "    .dataframe tbody tr th:only-of-type {\n",
       "        vertical-align: middle;\n",
       "    }\n",
       "\n",
       "    .dataframe tbody tr th {\n",
       "        vertical-align: top;\n",
       "    }\n",
       "\n",
       "    .dataframe thead th {\n",
       "        text-align: right;\n",
       "    }\n",
       "</style>\n",
       "<table border=\"1\" class=\"dataframe\">\n",
       "  <thead>\n",
       "    <tr style=\"text-align: right;\">\n",
       "      <th></th>\n",
       "      <th>fixed acidity</th>\n",
       "      <th>volatile acidity</th>\n",
       "      <th>citric acid</th>\n",
       "      <th>residual sugar</th>\n",
       "      <th>chlorides</th>\n",
       "      <th>free sulfur dioxide</th>\n",
       "      <th>total sulfur dioxide</th>\n",
       "      <th>density</th>\n",
       "      <th>pH</th>\n",
       "      <th>sulphates</th>\n",
       "      <th>alcohol</th>\n",
       "      <th>quality</th>\n",
       "    </tr>\n",
       "  </thead>\n",
       "  <tbody>\n",
       "    <tr>\n",
       "      <th>0</th>\n",
       "      <td>-0.167786</td>\n",
       "      <td>-0.422710</td>\n",
       "      <td>0.283959</td>\n",
       "      <td>3.207420</td>\n",
       "      <td>-0.315228</td>\n",
       "      <td>0.815609</td>\n",
       "      <td>0.960779</td>\n",
       "      <td>2.099926</td>\n",
       "      <td>-1.359160</td>\n",
       "      <td>-0.544987</td>\n",
       "      <td>-1.418922</td>\n",
       "      <td>6</td>\n",
       "    </tr>\n",
       "    <tr>\n",
       "      <th>1</th>\n",
       "      <td>-0.707155</td>\n",
       "      <td>-0.240479</td>\n",
       "      <td>0.146257</td>\n",
       "      <td>-0.808151</td>\n",
       "      <td>-0.201180</td>\n",
       "      <td>-0.930138</td>\n",
       "      <td>0.288479</td>\n",
       "      <td>-0.232465</td>\n",
       "      <td>0.508399</td>\n",
       "      <td>-0.276354</td>\n",
       "      <td>-0.832184</td>\n",
       "      <td>6</td>\n",
       "    </tr>\n",
       "    <tr>\n",
       "      <th>2</th>\n",
       "      <td>0.679794</td>\n",
       "      <td>-0.361966</td>\n",
       "      <td>0.559363</td>\n",
       "      <td>0.306117</td>\n",
       "      <td>-0.172668</td>\n",
       "      <td>-0.029107</td>\n",
       "      <td>-0.330745</td>\n",
       "      <td>0.134053</td>\n",
       "      <td>0.259391</td>\n",
       "      <td>-0.612146</td>\n",
       "      <td>-0.329265</td>\n",
       "      <td>6</td>\n",
       "    </tr>\n",
       "    <tr>\n",
       "      <th>3</th>\n",
       "      <td>-0.013681</td>\n",
       "      <td>-0.665684</td>\n",
       "      <td>0.008554</td>\n",
       "      <td>0.642500</td>\n",
       "      <td>0.055427</td>\n",
       "      <td>0.928238</td>\n",
       "      <td>1.243853</td>\n",
       "      <td>0.300653</td>\n",
       "      <td>-0.176373</td>\n",
       "      <td>-0.880779</td>\n",
       "      <td>-0.496905</td>\n",
       "      <td>6</td>\n",
       "    </tr>\n",
       "    <tr>\n",
       "      <th>4</th>\n",
       "      <td>-0.013681</td>\n",
       "      <td>-0.665684</td>\n",
       "      <td>0.008554</td>\n",
       "      <td>0.642500</td>\n",
       "      <td>0.055427</td>\n",
       "      <td>0.928238</td>\n",
       "      <td>1.243853</td>\n",
       "      <td>0.300653</td>\n",
       "      <td>-0.176373</td>\n",
       "      <td>-0.880779</td>\n",
       "      <td>-0.496905</td>\n",
       "      <td>6</td>\n",
       "    </tr>\n",
       "  </tbody>\n",
       "</table>\n",
       "</div>"
      ],
      "text/plain": [
       "   fixed acidity  volatile acidity  citric acid  residual sugar  chlorides  \\\n",
       "0      -0.167786         -0.422710     0.283959        3.207420  -0.315228   \n",
       "1      -0.707155         -0.240479     0.146257       -0.808151  -0.201180   \n",
       "2       0.679794         -0.361966     0.559363        0.306117  -0.172668   \n",
       "3      -0.013681         -0.665684     0.008554        0.642500   0.055427   \n",
       "4      -0.013681         -0.665684     0.008554        0.642500   0.055427   \n",
       "\n",
       "   free sulfur dioxide  total sulfur dioxide   density        pH  sulphates  \\\n",
       "0             0.815609              0.960779  2.099926 -1.359160  -0.544987   \n",
       "1            -0.930138              0.288479 -0.232465  0.508399  -0.276354   \n",
       "2            -0.029107             -0.330745  0.134053  0.259391  -0.612146   \n",
       "3             0.928238              1.243853  0.300653 -0.176373  -0.880779   \n",
       "4             0.928238              1.243853  0.300653 -0.176373  -0.880779   \n",
       "\n",
       "    alcohol  quality  \n",
       "0 -1.418922        6  \n",
       "1 -0.832184        6  \n",
       "2 -0.329265        6  \n",
       "3 -0.496905        6  \n",
       "4 -0.496905        6  "
      ]
     },
     "execution_count": 12,
     "metadata": {},
     "output_type": "execute_result"
    }
   ],
   "source": [
    "data_whitewine = data[data['type_white'] == 1]\n",
    "data_whitewine.drop(['type_red', 'type_white'], axis=1, inplace=True)\n",
    "data_whitewine = data_whitewine.reset_index(drop=True)\n",
    "data_whitewine.head()"
   ]
  },
  {
   "cell_type": "markdown",
   "metadata": {},
   "source": [
    "Preprocessing of the dataset with both white/red wine"
   ]
  },
  {
   "cell_type": "code",
   "execution_count": 13,
   "metadata": {},
   "outputs": [
    {
     "data": {
      "text/html": [
       "<div>\n",
       "<style scoped>\n",
       "    .dataframe tbody tr th:only-of-type {\n",
       "        vertical-align: middle;\n",
       "    }\n",
       "\n",
       "    .dataframe tbody tr th {\n",
       "        vertical-align: top;\n",
       "    }\n",
       "\n",
       "    .dataframe thead th {\n",
       "        text-align: right;\n",
       "    }\n",
       "</style>\n",
       "<table border=\"1\" class=\"dataframe\">\n",
       "  <thead>\n",
       "    <tr style=\"text-align: right;\">\n",
       "      <th></th>\n",
       "      <th>quality</th>\n",
       "    </tr>\n",
       "  </thead>\n",
       "  <tbody>\n",
       "    <tr>\n",
       "      <th>0</th>\n",
       "      <td>6</td>\n",
       "    </tr>\n",
       "    <tr>\n",
       "      <th>1</th>\n",
       "      <td>6</td>\n",
       "    </tr>\n",
       "    <tr>\n",
       "      <th>2</th>\n",
       "      <td>6</td>\n",
       "    </tr>\n",
       "    <tr>\n",
       "      <th>3</th>\n",
       "      <td>6</td>\n",
       "    </tr>\n",
       "    <tr>\n",
       "      <th>4</th>\n",
       "      <td>6</td>\n",
       "    </tr>\n",
       "    <tr>\n",
       "      <th>...</th>\n",
       "      <td>...</td>\n",
       "    </tr>\n",
       "    <tr>\n",
       "      <th>6491</th>\n",
       "      <td>6</td>\n",
       "    </tr>\n",
       "    <tr>\n",
       "      <th>6492</th>\n",
       "      <td>5</td>\n",
       "    </tr>\n",
       "    <tr>\n",
       "      <th>6494</th>\n",
       "      <td>6</td>\n",
       "    </tr>\n",
       "    <tr>\n",
       "      <th>6495</th>\n",
       "      <td>5</td>\n",
       "    </tr>\n",
       "    <tr>\n",
       "      <th>6496</th>\n",
       "      <td>6</td>\n",
       "    </tr>\n",
       "  </tbody>\n",
       "</table>\n",
       "<p>6458 rows × 1 columns</p>\n",
       "</div>"
      ],
      "text/plain": [
       "      quality\n",
       "0           6\n",
       "1           6\n",
       "2           6\n",
       "3           6\n",
       "4           6\n",
       "...       ...\n",
       "6491        6\n",
       "6492        5\n",
       "6494        6\n",
       "6495        5\n",
       "6496        6\n",
       "\n",
       "[6458 rows x 1 columns]"
      ]
     },
     "execution_count": 13,
     "metadata": {},
     "output_type": "execute_result"
    }
   ],
   "source": [
    "# Split the features and the target for the dataset \n",
    "y = pd.DataFrame(data['quality'])\n",
    "X = data.drop(['quality'], axis=1, inplace=False)\n",
    "y"
   ]
  },
  {
   "cell_type": "code",
   "execution_count": 14,
   "metadata": {},
   "outputs": [
    {
     "name": "stdout",
     "output_type": "stream",
     "text": [
      "<class 'pandas.core.frame.DataFrame'>\n",
      "Int64Index: 6458 entries, 0 to 6496\n",
      "Data columns (total 13 columns):\n",
      " #   Column                Non-Null Count  Dtype  \n",
      "---  ------                --------------  -----  \n",
      " 0   fixed acidity         6458 non-null   float64\n",
      " 1   volatile acidity      6458 non-null   float64\n",
      " 2   citric acid           6458 non-null   float64\n",
      " 3   residual sugar        6458 non-null   float64\n",
      " 4   chlorides             6458 non-null   float64\n",
      " 5   free sulfur dioxide   6458 non-null   float64\n",
      " 6   total sulfur dioxide  6458 non-null   float64\n",
      " 7   density               6458 non-null   float64\n",
      " 8   pH                    6458 non-null   float64\n",
      " 9   sulphates             6458 non-null   float64\n",
      " 10  alcohol               6458 non-null   float64\n",
      " 11  type_red              6458 non-null   uint8  \n",
      " 12  type_white            6458 non-null   uint8  \n",
      "dtypes: float64(11), uint8(2)\n",
      "memory usage: 618.1 KB\n"
     ]
    }
   ],
   "source": [
    "X.info()"
   ]
  },
  {
   "cell_type": "code",
   "execution_count": 15,
   "metadata": {},
   "outputs": [
    {
     "name": "stdout",
     "output_type": "stream",
     "text": [
      "quality\n",
      "6          2820\n",
      "5          2128\n",
      "7          1074\n",
      "4           214\n",
      "8           192\n",
      "3            30\n",
      "dtype: int64\n"
     ]
    },
    {
     "data": {
      "text/plain": [
       "<matplotlib.axes._subplots.AxesSubplot at 0x1fc99148c88>"
      ]
     },
     "execution_count": 15,
     "metadata": {},
     "output_type": "execute_result"
    },
    {
     "data": {
      "image/png": "[encoded data removed]",
      "text/plain": [
       "<Figure size 720x432 with 1 Axes>"
      ]
     },
     "metadata": {},
     "output_type": "display_data"
    }
   ],
   "source": [
    "# Check the distribution of target columns, and virtualize\n",
    "sns.set(style=\"whitegrid\")\n",
    "print(y.value_counts())\n",
    "fig = plt.figure(figsize = (10,6))\n",
    "sns.countplot('quality', data=data)"
   ]
  },
  {
   "cell_type": "markdown",
   "metadata": {},
   "source": [
    "## Deal with data imbalancing"
   ]
  },
  {
   "cell_type": "code",
   "execution_count": 16,
   "metadata": {},
   "outputs": [],
   "source": [
    "# Class distribution very imbalanced. Oversample the minorities\n",
    "from imblearn.over_sampling import BorderlineSMOTE\n",
    "import collections\n",
    "oversampler = BorderlineSMOTE(k_neighbors=4, m_neighbors=4)\n",
    "X_oversampled, y_oversampled = oversampler.fit_resample(X, y)"
   ]
  },
  {
   "cell_type": "code",
   "execution_count": 17,
   "metadata": {},
   "outputs": [],
   "source": [
    "X_oversampled, y_oversampled = oversampler.fit_resample(X, y)"
   ]
  },
  {
   "cell_type": "code",
   "execution_count": 18,
   "metadata": {},
   "outputs": [
    {
     "name": "stdout",
     "output_type": "stream",
     "text": [
      "quality\n",
      "8          2820\n",
      "7          2820\n",
      "6          2820\n",
      "5          2820\n",
      "4          2820\n",
      "3          2820\n",
      "dtype: int64\n"
     ]
    },
    {
     "data": {
      "text/plain": [
       "<matplotlib.axes._subplots.AxesSubplot at 0x1fc9a0c53c8>"
      ]
     },
     "execution_count": 18,
     "metadata": {},
     "output_type": "execute_result"
    },
    {
     "data": {
      "image/png": "[encoded data removed]",
      "text/plain": [
       "<Figure size 720x432 with 1 Axes>"
      ]
     },
     "metadata": {},
     "output_type": "display_data"
    }
   ],
   "source": [
    "# Virtualize the distribution after oversampling\n",
    "sns.set(style=\"whitegrid\")\n",
    "print(y_oversampled.value_counts())\n",
    "fig = plt.figure(figsize = (10,6))\n",
    "sns.countplot('quality', data=y_oversampled)"
   ]
  },
  {
   "cell_type": "code",
   "execution_count": 19,
   "metadata": {},
   "outputs": [
    {
     "name": "stdout",
     "output_type": "stream",
     "text": [
      "Shape of training feature: (13536, 13)\n",
      "Shape of testing feature: (3384, 13)\n",
      "Shape of training label: (13536, 1)\n",
      "Shape of training label: (3384, 1)\n"
     ]
    }
   ],
   "source": [
    "# Split train/test sets\n",
    "from sklearn.model_selection import train_test_split\n",
    "X_train, X_test, y_train, y_test = train_test_split(X_oversampled, y_oversampled, test_size=0.2)\n",
    "print('Shape of training feature:', X_train.shape)\n",
    "print('Shape of testing feature:', X_test.shape)\n",
    "print('Shape of training label:', y_train.shape)\n",
    "print('Shape of training label:', y_test.shape)"
   ]
  },
  {
   "cell_type": "markdown",
   "metadata": {},
   "source": [
    "## Check outliers"
   ]
  },
  {
   "cell_type": "code",
   "execution_count": 20,
   "metadata": {},
   "outputs": [
    {
     "name": "stdout",
     "output_type": "stream",
     "text": [
      "Shape of training feature: (12184, 13)\n",
      "Shape of training label: (12184, 1)\n"
     ]
    }
   ],
   "source": [
    "# Check for any outlier\n",
    "# Reference: https://machinelearningmastery.com/model-based-outlier-detection-and-removal-in-python/\n",
    "from sklearn.ensemble import IsolationForest\n",
    "iso = IsolationForest(contamination=0.1)\n",
    "yhat = iso.fit_predict(X_train)\n",
    "mask = yhat != -1\n",
    "# print(yhat)\n",
    "# print(X_train[mask])\n",
    "X_train, y_train = X_train[mask], y_train[mask]\n",
    "print('Shape of training feature:', X_train.shape)\n",
    "print('Shape of training label:', y_train.shape)"
   ]
  },
  {
   "cell_type": "markdown",
   "metadata": {},
   "source": [
    "Preprocessing the sub dataset with only red wine"
   ]
  },
  {
   "cell_type": "code",
   "execution_count": 21,
   "metadata": {},
   "outputs": [
    {
     "data": {
      "text/html": [
       "<div>\n",
       "<style scoped>\n",
       "    .dataframe tbody tr th:only-of-type {\n",
       "        vertical-align: middle;\n",
       "    }\n",
       "\n",
       "    .dataframe tbody tr th {\n",
       "        vertical-align: top;\n",
       "    }\n",
       "\n",
       "    .dataframe thead th {\n",
       "        text-align: right;\n",
       "    }\n",
       "</style>\n",
       "<table border=\"1\" class=\"dataframe\">\n",
       "  <thead>\n",
       "    <tr style=\"text-align: right;\">\n",
       "      <th></th>\n",
       "      <th>quality</th>\n",
       "    </tr>\n",
       "  </thead>\n",
       "  <tbody>\n",
       "    <tr>\n",
       "      <th>0</th>\n",
       "      <td>5</td>\n",
       "    </tr>\n",
       "    <tr>\n",
       "      <th>1</th>\n",
       "      <td>5</td>\n",
       "    </tr>\n",
       "    <tr>\n",
       "      <th>2</th>\n",
       "      <td>5</td>\n",
       "    </tr>\n",
       "    <tr>\n",
       "      <th>3</th>\n",
       "      <td>6</td>\n",
       "    </tr>\n",
       "    <tr>\n",
       "      <th>4</th>\n",
       "      <td>5</td>\n",
       "    </tr>\n",
       "    <tr>\n",
       "      <th>...</th>\n",
       "      <td>...</td>\n",
       "    </tr>\n",
       "    <tr>\n",
       "      <th>1588</th>\n",
       "      <td>6</td>\n",
       "    </tr>\n",
       "    <tr>\n",
       "      <th>1589</th>\n",
       "      <td>5</td>\n",
       "    </tr>\n",
       "    <tr>\n",
       "      <th>1590</th>\n",
       "      <td>6</td>\n",
       "    </tr>\n",
       "    <tr>\n",
       "      <th>1591</th>\n",
       "      <td>5</td>\n",
       "    </tr>\n",
       "    <tr>\n",
       "      <th>1592</th>\n",
       "      <td>6</td>\n",
       "    </tr>\n",
       "  </tbody>\n",
       "</table>\n",
       "<p>1593 rows × 1 columns</p>\n",
       "</div>"
      ],
      "text/plain": [
       "      quality\n",
       "0           5\n",
       "1           5\n",
       "2           5\n",
       "3           6\n",
       "4           5\n",
       "...       ...\n",
       "1588        6\n",
       "1589        5\n",
       "1590        6\n",
       "1591        5\n",
       "1592        6\n",
       "\n",
       "[1593 rows x 1 columns]"
      ]
     },
     "execution_count": 21,
     "metadata": {},
     "output_type": "execute_result"
    }
   ],
   "source": [
    "# Split the features and the target for the dataset \n",
    "y_red = pd.DataFrame(data_redwine['quality'])\n",
    "X_red = data_redwine.drop(['quality'], axis=1, inplace=False)\n",
    "y_red"
   ]
  },
  {
   "cell_type": "code",
   "execution_count": 22,
   "metadata": {},
   "outputs": [
    {
     "name": "stdout",
     "output_type": "stream",
     "text": [
      "<class 'pandas.core.frame.DataFrame'>\n",
      "RangeIndex: 1593 entries, 0 to 1592\n",
      "Data columns (total 11 columns):\n",
      " #   Column                Non-Null Count  Dtype  \n",
      "---  ------                --------------  -----  \n",
      " 0   fixed acidity         1593 non-null   float64\n",
      " 1   volatile acidity      1593 non-null   float64\n",
      " 2   citric acid           1593 non-null   float64\n",
      " 3   residual sugar        1593 non-null   float64\n",
      " 4   chlorides             1593 non-null   float64\n",
      " 5   free sulfur dioxide   1593 non-null   float64\n",
      " 6   total sulfur dioxide  1593 non-null   float64\n",
      " 7   density               1593 non-null   float64\n",
      " 8   pH                    1593 non-null   float64\n",
      " 9   sulphates             1593 non-null   float64\n",
      " 10  alcohol               1593 non-null   float64\n",
      "dtypes: float64(11)\n",
      "memory usage: 137.0 KB\n"
     ]
    }
   ],
   "source": [
    "X_red.info()"
   ]
  },
  {
   "cell_type": "code",
   "execution_count": 23,
   "metadata": {},
   "outputs": [
    {
     "name": "stdout",
     "output_type": "stream",
     "text": [
      "quality\n",
      "5          680\n",
      "6          634\n",
      "7          199\n",
      "4           52\n",
      "8           18\n",
      "3           10\n",
      "dtype: int64\n"
     ]
    },
    {
     "data": {
      "text/plain": [
       "<matplotlib.axes._subplots.AxesSubplot at 0x1fc9b3dc908>"
      ]
     },
     "execution_count": 23,
     "metadata": {},
     "output_type": "execute_result"
    },
    {
     "data": {
      "image/png": "[encoded data removed]",
      "text/plain": [
       "<Figure size 720x432 with 1 Axes>"
      ]
     },
     "metadata": {},
     "output_type": "display_data"
    }
   ],
   "source": [
    "# Check the distribution of target columns, and virtualize\n",
    "sns.set(style=\"whitegrid\")\n",
    "print(y_red.value_counts())\n",
    "fig = plt.figure(figsize = (10,6))\n",
    "sns.countplot('quality', data=data_redwine)"
   ]
  },
  {
   "cell_type": "code",
   "execution_count": 24,
   "metadata": {},
   "outputs": [],
   "source": [
    "# Class distribution very imbalanced. Oversample the minorities\n",
    "oversampler_red = BorderlineSMOTE()\n",
    "X_red_oversampled, y_red_oversampled = oversampler_red.fit_resample(X_red, y_red)"
   ]
  },
  {
   "cell_type": "code",
   "execution_count": 25,
   "metadata": {},
   "outputs": [
    {
     "name": "stdout",
     "output_type": "stream",
     "text": [
      "quality\n",
      "8          680\n",
      "7          680\n",
      "6          680\n",
      "5          680\n",
      "4          680\n",
      "3          680\n",
      "dtype: int64\n"
     ]
    },
    {
     "data": {
      "text/plain": [
       "<matplotlib.axes._subplots.AxesSubplot at 0x1fc9b2f51d0>"
      ]
     },
     "execution_count": 25,
     "metadata": {},
     "output_type": "execute_result"
    },
    {
     "data": {
      "image/png": "[encoded data removed]",
      "text/plain": [
       "<Figure size 720x432 with 1 Axes>"
      ]
     },
     "metadata": {},
     "output_type": "display_data"
    }
   ],
   "source": [
    "# Virtualize the distribution after oversampling\n",
    "sns.set(style=\"whitegrid\")\n",
    "print(y_red_oversampled.value_counts())\n",
    "fig = plt.figure(figsize = (10,6))\n",
    "sns.countplot('quality', data=y_red_oversampled)"
   ]
  },
  {
   "cell_type": "code",
   "execution_count": 26,
   "metadata": {},
   "outputs": [
    {
     "name": "stdout",
     "output_type": "stream",
     "text": [
      "Shape of training feature: (3264, 11)\n",
      "Shape of testing feature: (816, 11)\n",
      "Shape of training label: (3264, 1)\n",
      "Shape of training label: (816, 1)\n"
     ]
    }
   ],
   "source": [
    "# Split train/test sets\n",
    "X_red_train, X_red_test, y_red_train, y_red_test = train_test_split(X_red_oversampled, y_red_oversampled, test_size=0.2)\n",
    "print('Shape of training feature:', X_red_train.shape)\n",
    "print('Shape of testing feature:', X_red_test.shape)\n",
    "print('Shape of training label:', y_red_train.shape)\n",
    "print('Shape of training label:', y_red_test.shape)"
   ]
  },
  {
   "cell_type": "code",
   "execution_count": 27,
   "metadata": {},
   "outputs": [
    {
     "name": "stdout",
     "output_type": "stream",
     "text": [
      "Shape of training feature: (2937, 11)\n",
      "Shape of training label: (2937, 1)\n"
     ]
    }
   ],
   "source": [
    "# Check for any outlier\n",
    "# Reference: https://machinelearningmastery.com/model-based-outlier-detection-and-removal-in-python/\n",
    "iso = IsolationForest(contamination=0.1)\n",
    "yhat = iso.fit_predict(X_red_train)\n",
    "mask = yhat != -1\n",
    "# print(yhat)\n",
    "# print(X_train[mask])\n",
    "X_red_train, y_red_train = X_red_train[mask], y_red_train[mask]\n",
    "print('Shape of training feature:', X_red_train.shape)\n",
    "print('Shape of training label:', y_red_train.shape)"
   ]
  },
  {
   "cell_type": "markdown",
   "metadata": {},
   "source": [
    "Preprocessing the sub dataset with only white wine"
   ]
  },
  {
   "cell_type": "code",
   "execution_count": 28,
   "metadata": {},
   "outputs": [
    {
     "data": {
      "text/html": [
       "<div>\n",
       "<style scoped>\n",
       "    .dataframe tbody tr th:only-of-type {\n",
       "        vertical-align: middle;\n",
       "    }\n",
       "\n",
       "    .dataframe tbody tr th {\n",
       "        vertical-align: top;\n",
       "    }\n",
       "\n",
       "    .dataframe thead th {\n",
       "        text-align: right;\n",
       "    }\n",
       "</style>\n",
       "<table border=\"1\" class=\"dataframe\">\n",
       "  <thead>\n",
       "    <tr style=\"text-align: right;\">\n",
       "      <th></th>\n",
       "      <th>quality</th>\n",
       "    </tr>\n",
       "  </thead>\n",
       "  <tbody>\n",
       "    <tr>\n",
       "      <th>0</th>\n",
       "      <td>6</td>\n",
       "    </tr>\n",
       "    <tr>\n",
       "      <th>1</th>\n",
       "      <td>6</td>\n",
       "    </tr>\n",
       "    <tr>\n",
       "      <th>2</th>\n",
       "      <td>6</td>\n",
       "    </tr>\n",
       "    <tr>\n",
       "      <th>3</th>\n",
       "      <td>6</td>\n",
       "    </tr>\n",
       "    <tr>\n",
       "      <th>4</th>\n",
       "      <td>6</td>\n",
       "    </tr>\n",
       "    <tr>\n",
       "      <th>...</th>\n",
       "      <td>...</td>\n",
       "    </tr>\n",
       "    <tr>\n",
       "      <th>4860</th>\n",
       "      <td>6</td>\n",
       "    </tr>\n",
       "    <tr>\n",
       "      <th>4861</th>\n",
       "      <td>6</td>\n",
       "    </tr>\n",
       "    <tr>\n",
       "      <th>4862</th>\n",
       "      <td>5</td>\n",
       "    </tr>\n",
       "    <tr>\n",
       "      <th>4863</th>\n",
       "      <td>7</td>\n",
       "    </tr>\n",
       "    <tr>\n",
       "      <th>4864</th>\n",
       "      <td>6</td>\n",
       "    </tr>\n",
       "  </tbody>\n",
       "</table>\n",
       "<p>4865 rows × 1 columns</p>\n",
       "</div>"
      ],
      "text/plain": [
       "      quality\n",
       "0           6\n",
       "1           6\n",
       "2           6\n",
       "3           6\n",
       "4           6\n",
       "...       ...\n",
       "4860        6\n",
       "4861        6\n",
       "4862        5\n",
       "4863        7\n",
       "4864        6\n",
       "\n",
       "[4865 rows x 1 columns]"
      ]
     },
     "execution_count": 28,
     "metadata": {},
     "output_type": "execute_result"
    }
   ],
   "source": [
    "# Split the features and the target for the dataset \n",
    "y_white = pd.DataFrame(data_whitewine['quality'])\n",
    "X_white = data_whitewine.drop(['quality'], axis=1, inplace=False)\n",
    "y_white"
   ]
  },
  {
   "cell_type": "code",
   "execution_count": 29,
   "metadata": {},
   "outputs": [
    {
     "name": "stdout",
     "output_type": "stream",
     "text": [
      "<class 'pandas.core.frame.DataFrame'>\n",
      "RangeIndex: 4865 entries, 0 to 4864\n",
      "Data columns (total 11 columns):\n",
      " #   Column                Non-Null Count  Dtype  \n",
      "---  ------                --------------  -----  \n",
      " 0   fixed acidity         4865 non-null   float64\n",
      " 1   volatile acidity      4865 non-null   float64\n",
      " 2   citric acid           4865 non-null   float64\n",
      " 3   residual sugar        4865 non-null   float64\n",
      " 4   chlorides             4865 non-null   float64\n",
      " 5   free sulfur dioxide   4865 non-null   float64\n",
      " 6   total sulfur dioxide  4865 non-null   float64\n",
      " 7   density               4865 non-null   float64\n",
      " 8   pH                    4865 non-null   float64\n",
      " 9   sulphates             4865 non-null   float64\n",
      " 10  alcohol               4865 non-null   float64\n",
      "dtypes: float64(11)\n",
      "memory usage: 418.2 KB\n"
     ]
    }
   ],
   "source": [
    "X_white.info()"
   ]
  },
  {
   "cell_type": "code",
   "execution_count": 30,
   "metadata": {},
   "outputs": [
    {
     "name": "stdout",
     "output_type": "stream",
     "text": [
      "quality\n",
      "6          2186\n",
      "5          1448\n",
      "7           875\n",
      "8           174\n",
      "4           162\n",
      "3            20\n",
      "dtype: int64\n"
     ]
    },
    {
     "data": {
      "text/plain": [
       "<matplotlib.axes._subplots.AxesSubplot at 0x1fc9b35f208>"
      ]
     },
     "execution_count": 30,
     "metadata": {},
     "output_type": "execute_result"
    },
    {
     "data": {
      "image/png": "[encoded data removed]",
      "text/plain": [
       "<Figure size 720x432 with 1 Axes>"
      ]
     },
     "metadata": {},
     "output_type": "display_data"
    }
   ],
   "source": [
    "# Check the distribution of target columns, and virtualize\n",
    "sns.set(style=\"whitegrid\")\n",
    "print(y_white.value_counts())\n",
    "fig = plt.figure(figsize = (10,6))\n",
    "sns.countplot('quality', data=data_whitewine)"
   ]
  },
  {
   "cell_type": "code",
   "execution_count": 31,
   "metadata": {},
   "outputs": [],
   "source": [
    "# Class distribution very imbalanced. Oversample the minorities\n",
    "oversampler_white = BorderlineSMOTE(k_neighbors=4, m_neighbors=4)\n",
    "X_white_oversampled, y_white_oversampled = oversampler_white.fit_resample(X_white, y_white)"
   ]
  },
  {
   "cell_type": "code",
   "execution_count": 32,
   "metadata": {},
   "outputs": [
    {
     "name": "stdout",
     "output_type": "stream",
     "text": [
      "quality\n",
      "8          2186\n",
      "7          2186\n",
      "6          2186\n",
      "5          2186\n",
      "4          2186\n",
      "3          2186\n",
      "dtype: int64\n"
     ]
    },
    {
     "data": {
      "text/plain": [
       "<matplotlib.axes._subplots.AxesSubplot at 0x1fc9b3c9780>"
      ]
     },
     "execution_count": 32,
     "metadata": {},
     "output_type": "execute_result"
    },
    {
     "data": {
      "image/png": "[encoded data removed]",
      "text/plain": [
       "<Figure size 720x432 with 1 Axes>"
      ]
     },
     "metadata": {},
     "output_type": "display_data"
    }
   ],
   "source": [
    "# Virtualize the distribution after oversampling\n",
    "sns.set(style=\"whitegrid\")\n",
    "print(y_white_oversampled.value_counts())\n",
    "fig = plt.figure(figsize = (10,6))\n",
    "sns.countplot('quality', data=y_white_oversampled)"
   ]
  },
  {
   "cell_type": "code",
   "execution_count": 33,
   "metadata": {},
   "outputs": [
    {
     "name": "stdout",
     "output_type": "stream",
     "text": [
      "Shape of training feature: (10492, 11)\n",
      "Shape of testing feature: (2624, 11)\n",
      "Shape of training label: (10492, 1)\n",
      "Shape of training label: (2624, 1)\n"
     ]
    }
   ],
   "source": [
    "# Split train/test sets\n",
    "X_white_train, X_white_test, y_white_train, y_white_test = train_test_split(X_white_oversampled, y_white_oversampled, test_size=0.2)\n",
    "print('Shape of training feature:', X_white_train.shape)\n",
    "print('Shape of testing feature:', X_white_test.shape)\n",
    "print('Shape of training label:', y_white_train.shape)\n",
    "print('Shape of training label:', y_white_test.shape)"
   ]
  },
  {
   "cell_type": "code",
   "execution_count": 34,
   "metadata": {},
   "outputs": [
    {
     "name": "stdout",
     "output_type": "stream",
     "text": [
      "Shape of training feature: (9442, 11)\n",
      "Shape of training label: (9442, 1)\n"
     ]
    }
   ],
   "source": [
    "# Check for any outlier\n",
    "# Reference: https://machinelearningmastery.com/model-based-outlier-detection-and-removal-in-python/\n",
    "iso = IsolationForest(contamination=0.1)\n",
    "yhat = iso.fit_predict(X_white_train)\n",
    "mask = yhat != -1\n",
    "# print(yhat)\n",
    "# print(X_train[mask])\n",
    "X_white_train, y_white_train = X_white_train[mask], y_white_train[mask]\n",
    "print('Shape of training feature:', X_white_train.shape)\n",
    "print('Shape of training label:', y_white_train.shape)"
   ]
  },
  {
   "cell_type": "markdown",
   "metadata": {},
   "source": [
    "## Neural Network Training"
   ]
  },
  {
   "cell_type": "code",
   "execution_count": 35,
   "metadata": {},
   "outputs": [
    {
     "name": "stdout",
     "output_type": "stream",
     "text": [
      "White wine - Multi-class results\n",
      "Train data score\n",
      "              precision    recall  f1-score   support\n",
      "\n",
      "           3       1.00      1.00      1.00      1332\n",
      "           4       1.00      0.99      1.00      1588\n",
      "           5       0.97      0.96      0.96      1589\n",
      "           6       0.95      0.97      0.96      1607\n",
      "           7       1.00      0.99      0.99      1679\n",
      "           8       1.00      1.00      1.00      1647\n",
      "\n",
      "    accuracy                           0.99      9442\n",
      "   macro avg       0.99      0.99      0.99      9442\n",
      "weighted avg       0.99      0.99      0.99      9442\n",
      "\n",
      "Test data score\n",
      "              precision    recall  f1-score   support\n",
      "\n",
      "           3       0.95      1.00      0.97       418\n",
      "           4       0.98      0.92      0.95       482\n",
      "           5       0.73      0.77      0.75       407\n",
      "           6       0.64      0.66      0.65       424\n",
      "           7       0.88      0.84      0.86       460\n",
      "           8       0.97      0.95      0.96       433\n",
      "\n",
      "    accuracy                           0.86      2624\n",
      "   macro avg       0.86      0.86      0.86      2624\n",
      "weighted avg       0.86      0.86      0.86      2624\n",
      "\n"
     ]
    }
   ],
   "source": [
    "# neural network\n",
    "from sklearn.neural_network import MLPClassifier\n",
    "from sklearn.model_selection import GridSearchCV\n",
    "from sklearn.metrics import accuracy_score\n",
    "from sklearn.metrics import plot_confusion_matrix\n",
    "from sklearn.metrics import classification_report\n",
    "from sklearn.preprocessing import StandardScaler\n",
    "\n",
    "\n",
    "# Train white wine - multi-class\n",
    "sc_white=StandardScaler()\n",
    "scaler = sc_white.fit(X_white_train)\n",
    "trainX_scaled_white = scaler.transform(X_white_train)\n",
    "testX_scaled_white = scaler.transform(X_white_test)\n",
    "\n",
    "mlp_white = MLPClassifier(solver='adam', hidden_layer_sizes=(115,115), alpha=1e-2,\n",
    "                        max_iter=2000, random_state=1)\n",
    "\n",
    "mlp_white.fit(trainX_scaled_white,y_white_train)\n",
    "print(\"White wine - Multi-class results\")\n",
    "print(\"Train data score\")\n",
    "y_pred_white_train = mlp_white.predict(trainX_scaled_white)\n",
    "print(classification_report(y_pred_white_train, y_white_train))\n",
    "print(\"Test data score\")\n",
    "y_pred_white_test = mlp_white.predict(testX_scaled_white)\n",
    "print(classification_report(y_pred_white_test, y_white_test))"
   ]
  },
  {
   "cell_type": "code",
   "execution_count": 36,
   "metadata": {},
   "outputs": [
    {
     "name": "stdout",
     "output_type": "stream",
     "text": [
      "Red wine - Multi-class results\n",
      "Train data score\n",
      "              precision    recall  f1-score   support\n",
      "\n",
      "           3       1.00      1.00      1.00       545\n",
      "           4       1.00      1.00      1.00       519\n",
      "           5       1.00      1.00      1.00       435\n",
      "           6       1.00      1.00      1.00       461\n",
      "           7       1.00      1.00      1.00       436\n",
      "           8       1.00      1.00      1.00       541\n",
      "\n",
      "    accuracy                           1.00      2937\n",
      "   macro avg       1.00      1.00      1.00      2937\n",
      "weighted avg       1.00      1.00      1.00      2937\n",
      "\n",
      "Test data score\n",
      "              precision    recall  f1-score   support\n",
      "\n",
      "           3       0.98      0.99      0.99       132\n",
      "           4       0.97      0.94      0.96       142\n",
      "           5       0.68      0.72      0.70       122\n",
      "           6       0.63      0.64      0.64       144\n",
      "           7       0.87      0.84      0.85       139\n",
      "           8       0.99      0.98      0.99       137\n",
      "\n",
      "    accuracy                           0.85       816\n",
      "   macro avg       0.85      0.85      0.85       816\n",
      "weighted avg       0.86      0.85      0.85       816\n",
      "\n"
     ]
    }
   ],
   "source": [
    "\n",
    "# standard data\n",
    "sc_red=StandardScaler()\n",
    "\n",
    "# Train red wine - multi-class\n",
    "scaler = sc_red.fit(X_red_train)\n",
    "trainX_scaled_red = scaler.transform(X_red_train)\n",
    "testX_scaled_red = scaler.transform(X_red_test)\n",
    "\n",
    "mlp_red = MLPClassifier(solver='adam', hidden_layer_sizes=(115,115), alpha=1e-2,\n",
    "                        max_iter=2000, random_state=1)\n",
    "\n",
    "mlp_red.fit(trainX_scaled_red,y_red_train)\n",
    "\n",
    "print(\"Red wine - Multi-class results\")\n",
    "print(\"Train data score\")\n",
    "y_pred_red_train = mlp_red.predict(trainX_scaled_red)\n",
    "print(classification_report(y_pred_red_train, y_red_train))\n",
    "\n",
    "print(\"Test data score\")\n",
    "y_pred_red_test = mlp_red.predict(testX_scaled_red)\n",
    "print(classification_report(y_pred_red_test, y_red_test))"
   ]
  },
  {
   "cell_type": "code",
   "execution_count": 37,
   "metadata": {},
   "outputs": [
    {
     "name": "stdout",
     "output_type": "stream",
     "text": [
      "All wine - Multi-class results\n",
      "Train data score\n",
      "              precision    recall  f1-score   support\n",
      "\n",
      "           3       1.00      1.00      1.00      2011\n",
      "           4       1.00      1.00      1.00      2203\n",
      "           5       0.97      0.92      0.94      2013\n",
      "           6       0.90      0.95      0.93      1871\n",
      "           7       0.98      0.98      0.98      1897\n",
      "           8       1.00      1.00      1.00      2189\n",
      "\n",
      "    accuracy                           0.98     12184\n",
      "   macro avg       0.97      0.97      0.97     12184\n",
      "weighted avg       0.98      0.98      0.98     12184\n",
      "\n",
      "Test data score\n",
      "              precision    recall  f1-score   support\n",
      "\n",
      "           3       0.99      0.98      0.99       598\n",
      "           4       0.97      0.94      0.96       541\n",
      "           5       0.72      0.74      0.73       561\n",
      "           6       0.61      0.61      0.61       557\n",
      "           7       0.79      0.83      0.81       566\n",
      "           8       0.97      0.96      0.97       561\n",
      "\n",
      "    accuracy                           0.84      3384\n",
      "   macro avg       0.84      0.84      0.84      3384\n",
      "weighted avg       0.85      0.84      0.85      3384\n",
      "\n"
     ]
    }
   ],
   "source": [
    "# Train all wine - multi-class\n",
    "sc_all=StandardScaler()\n",
    "scaler = sc_all.fit(X_train)\n",
    "trainX_scaled_all = scaler.transform(X_train)\n",
    "testX_scaled_all = scaler.transform(X_test)\n",
    "\n",
    "mlp_all = MLPClassifier(solver='adam', hidden_layer_sizes=(115,115), alpha=1e-2,\n",
    "                        max_iter=2000, random_state=1)\n",
    "\n",
    "mlp_all.fit(trainX_scaled_all,y_train)\n",
    "print(\"All wine - Multi-class results\")\n",
    "print(\"Train data score\")\n",
    "y_pred_all_train = mlp_all.predict(trainX_scaled_all)\n",
    "print(classification_report(y_pred_all_train, y_train))\n",
    "print(\"Test data score\")\n",
    "y_pred_all_test = mlp_all.predict(testX_scaled_all)\n",
    "print(classification_report(y_pred_all_test, y_test))"
   ]
  },
  {
   "cell_type": "code",
   "execution_count": null,
   "metadata": {},
   "outputs": [],
   "source": []
  },
  {
   "cell_type": "markdown",
   "metadata": {},
   "source": [
    "## KNN Training"
   ]
  },
  {
   "cell_type": "code",
   "execution_count": 38,
   "metadata": {},
   "outputs": [],
   "source": [
    "from sklearn.neighbors import KNeighborsClassifier\n",
    "knn_classfier = KNeighborsClassifier()\n",
    "knn_classfier.fit(X_train, y_train)\n",
    "y_pred = knn_classfier.predict(X_test)"
   ]
  },
  {
   "cell_type": "code",
   "execution_count": 39,
   "metadata": {},
   "outputs": [
    {
     "data": {
      "text/plain": [
       "0.8226950354609929"
      ]
     },
     "execution_count": 39,
     "metadata": {},
     "output_type": "execute_result"
    }
   ],
   "source": [
    "from sklearn.metrics import accuracy_score\n",
    "accuracy = accuracy_score(y_test, y_pred)\n",
    "accuracy"
   ]
  },
  {
   "cell_type": "code",
   "execution_count": 40,
   "metadata": {},
   "outputs": [
    {
     "data": {
      "image/png": "[encoded data removed]",
      "text/plain": [
       "<Figure size 432x288 with 2 Axes>"
      ]
     },
     "metadata": {},
     "output_type": "display_data"
    }
   ],
   "source": [
    " # making confusion matrix \n",
    "from sklearn.metrics import confusion_matrix, ConfusionMatrixDisplay\n",
    "import matplotlib.pylab as plt\n",
    "cm = confusion_matrix(y_test, y_pred)\n",
    "disp = ConfusionMatrixDisplay(confusion_matrix=cm, display_labels=knn_classfier.classes_)\n",
    "disp.plot()\n",
    "plt.show()"
   ]
  },
  {
   "cell_type": "code",
   "execution_count": 41,
   "metadata": {},
   "outputs": [
    {
     "data": {
      "image/png": "[encoded data removed]",
      "text/plain": [
       "<Figure size 1440x864 with 1 Axes>"
      ]
     },
     "metadata": {},
     "output_type": "display_data"
    }
   ],
   "source": [
    "# Tuning parameters\n",
    "test_accuracy_scores_distance = []\n",
    "test_accuracy_scores_uniform = []\n",
    "\n",
    "training_accuracy_distance = []\n",
    "training_accuracy_uniform = []\n",
    "\n",
    "for i in range(1, 80, 2):\n",
    "    for w in ['uniform', 'distance']:\n",
    "        knn = KNeighborsClassifier(n_neighbors=i, weights=w)\n",
    "        knn.fit(X_train, y_train)\n",
    "        y_pred_i = knn.predict(X_test)\n",
    "        acc_test = accuracy_score(y_test, y_pred_i)\n",
    "        acc_training = accuracy_score(y_train, knn.predict(X_train))\n",
    "\n",
    "        if w == 'uniform':\n",
    "            test_accuracy_scores_uniform.append(acc_test)\n",
    "            training_accuracy_uniform.append(acc_training)\n",
    "        else:\n",
    "            test_accuracy_scores_distance.append(acc_test)\n",
    "            training_accuracy_distance.append(acc_training)\n",
    "\n",
    "plt.figure(figsize =(20, 12))\n",
    "plt.plot(range(1, 80, 2), test_accuracy_scores_distance, color ='blue',\n",
    "\t\t\t\tlinestyle ='dashed', marker ='o',\n",
    "\t\tmarkerfacecolor ='blue', markersize = 10, label='weight(distance), test')\n",
    "plt.plot(range(1, 80, 2),test_accuracy_scores_uniform, color ='red',\n",
    "\t\t\t\tlinestyle ='dashed', marker ='o',\n",
    "\t\tmarkerfacecolor ='red', markersize = 10, label='weight(uniform), test')\n",
    "\n",
    "plt.plot(range(1, 80, 2),training_accuracy_distance, color ='black',\n",
    "\t\t\t\tlinestyle ='-', marker ='o',\n",
    "\t\tmarkerfacecolor ='blue', markersize = 10, label='weight(distance), train')\n",
    "plt.plot(range(1, 80, 2),training_accuracy_uniform, color ='black',\n",
    "\t\t\t\tlinestyle ='-', marker ='o',\n",
    "\t\tmarkerfacecolor ='red', markersize = 10, label='weight(uniform), train')\n",
    "\n",
    "\n",
    "plt.title('Accuracy Given K Neighbors and Diffrent Weights')\n",
    "plt.xlabel('K')\n",
    "plt.ylabel('Accuracy Score')\n",
    "plt.legend(loc=\"best\")\n",
    "plt.show()"
   ]
  },
  {
   "cell_type": "code",
   "execution_count": 42,
   "metadata": {},
   "outputs": [
    {
     "data": {
      "text/plain": [
       "0.6988770685579196"
      ]
     },
     "execution_count": 42,
     "metadata": {},
     "output_type": "execute_result"
    }
   ],
   "source": [
    "# In order to minimize overfitting problem as well as getting a good accuracy\n",
    "# we choose k = 40, weights = uniform\n",
    "knn_best = KNeighborsClassifier(n_neighbors=40, weights = 'uniform')\n",
    "knn_best.fit(X_train, y_train)\n",
    "pred_best = knn_best.predict(X_test)\n",
    "\n",
    "accuracy_best = accuracy_score(y_test, pred_best)\n",
    "accuracy_best"
   ]
  },
  {
   "cell_type": "code",
   "execution_count": 43,
   "metadata": {},
   "outputs": [
    {
     "data": {
      "image/png": "[encoded data removed]",
      "text/plain": [
       "<Figure size 432x288 with 2 Axes>"
      ]
     },
     "metadata": {},
     "output_type": "display_data"
    }
   ],
   "source": [
    "cm_best = confusion_matrix(y_test, pred_best)\n",
    "disp_best = ConfusionMatrixDisplay(confusion_matrix=cm_best, display_labels=knn_best.classes_)\n",
    "disp_best.plot()\n",
    "plt.show()"
   ]
  },
  {
   "cell_type": "code",
   "execution_count": 44,
   "metadata": {},
   "outputs": [
    {
     "name": "stdout",
     "output_type": "stream",
     "text": [
      "              precision    recall  f1-score   support\n",
      "\n",
      "           3       0.98      0.99      0.99       592\n",
      "           4       0.69      0.95      0.80       526\n",
      "           5       0.59      0.48      0.53       571\n",
      "           6       0.46      0.24      0.32       552\n",
      "           7       0.60      0.57      0.58       588\n",
      "           8       0.73      0.96      0.83       555\n",
      "\n",
      "    accuracy                           0.70      3384\n",
      "   macro avg       0.67      0.70      0.67      3384\n",
      "weighted avg       0.67      0.70      0.67      3384\n",
      "\n"
     ]
    }
   ],
   "source": [
    "from sklearn.metrics import classification_report\n",
    "print(classification_report(y_test, pred_best))"
   ]
  },
  {
   "cell_type": "code",
   "execution_count": 45,
   "metadata": {},
   "outputs": [],
   "source": [
    "knn_red_classfier = KNeighborsClassifier()\n",
    "knn_red_classfier.fit(X_red_train, y_red_train)\n",
    "y_pred_red = knn_red_classfier.predict(X_red_test)"
   ]
  },
  {
   "cell_type": "code",
   "execution_count": 46,
   "metadata": {},
   "outputs": [
    {
     "data": {
      "text/plain": [
       "0.8002450980392157"
      ]
     },
     "execution_count": 46,
     "metadata": {},
     "output_type": "execute_result"
    }
   ],
   "source": [
    "accuracy_red = accuracy_score(y_red_test, y_pred_red)\n",
    "accuracy_red"
   ]
  },
  {
   "cell_type": "code",
   "execution_count": 47,
   "metadata": {},
   "outputs": [
    {
     "data": {
      "image/png": "[encoded data removed]",
      "text/plain": [
       "<Figure size 432x288 with 2 Axes>"
      ]
     },
     "metadata": {},
     "output_type": "display_data"
    }
   ],
   "source": [
    "cm_red = confusion_matrix(y_red_test, y_pred_red)\n",
    "disp_red = ConfusionMatrixDisplay(confusion_matrix=cm_red, display_labels=knn_red_classfier.classes_)\n",
    "disp_red.plot()\n",
    "plt.show()"
   ]
  },
  {
   "cell_type": "code",
   "execution_count": 48,
   "metadata": {},
   "outputs": [
    {
     "data": {
      "image/png": "[encoded data removed]",
      "text/plain": [
       "<Figure size 1440x864 with 1 Axes>"
      ]
     },
     "metadata": {},
     "output_type": "display_data"
    }
   ],
   "source": [
    "# Tuning parameters\n",
    "red_test_accuracy_scores_distance = []\n",
    "red_test_accuracy_scores_uniform = []\n",
    "\n",
    "red_training_accuracy_distance = []\n",
    "red_training_accuracy_uniform = []\n",
    "\n",
    "for i in range(1, 80, 2):\n",
    "    for w in ['uniform', 'distance']:\n",
    "        knn = KNeighborsClassifier(n_neighbors=i, weights=w)\n",
    "        knn.fit(X_red_train, y_red_train)\n",
    "        y_pred_i = knn.predict(X_red_test)\n",
    "        acc_test = accuracy_score(y_red_test, y_pred_i)\n",
    "        acc_training = accuracy_score(y_red_train, knn.predict(X_red_train))\n",
    "\n",
    "        if w == 'uniform':\n",
    "            red_test_accuracy_scores_uniform.append(acc_test)\n",
    "            red_training_accuracy_uniform.append(acc_training)\n",
    "        else:\n",
    "            red_test_accuracy_scores_distance.append(acc_test)\n",
    "            red_training_accuracy_distance.append(acc_training)\n",
    "\n",
    "plt.figure(figsize =(20, 12))\n",
    "plt.plot(range(1, 80, 2), red_test_accuracy_scores_distance, color ='blue',\n",
    "\t\t\t\tlinestyle ='dashed', marker ='o',\n",
    "\t\tmarkerfacecolor ='blue', markersize = 10, label='weight(distance), test')\n",
    "plt.plot(range(1, 80, 2),red_test_accuracy_scores_uniform, color ='red',\n",
    "\t\t\t\tlinestyle ='dashed', marker ='o',\n",
    "\t\tmarkerfacecolor ='red', markersize = 10, label='weight(uniform), test')\n",
    "\n",
    "plt.plot(range(1, 80, 2),red_training_accuracy_distance, color ='black',\n",
    "\t\t\t\tlinestyle ='-', marker ='o',\n",
    "\t\tmarkerfacecolor ='blue', markersize = 10, label='weight(distance), train')\n",
    "plt.plot(range(1, 80, 2),red_training_accuracy_uniform, color ='black',\n",
    "\t\t\t\tlinestyle ='-', marker ='o',\n",
    "\t\tmarkerfacecolor ='red', markersize = 10, label='weight(uniform), train')\n",
    "\n",
    "\n",
    "plt.title('Accuracy(redwine) Given K Neighbors and Diffrent Weights')\n",
    "plt.xlabel('K')\n",
    "plt.ylabel('Accuracy Score(redwine)')\n",
    "plt.legend(loc=\"best\")\n",
    "plt.show()"
   ]
  },
  {
   "cell_type": "code",
   "execution_count": 49,
   "metadata": {},
   "outputs": [
    {
     "data": {
      "text/plain": [
       "0.7450980392156863"
      ]
     },
     "execution_count": 49,
     "metadata": {},
     "output_type": "execute_result"
    }
   ],
   "source": [
    "# In order to minimize overfitting problem as well as getting a good accuracy\n",
    "# we choose k = 13, weights = uniform\n",
    "knn_best_red = KNeighborsClassifier(n_neighbors=13, weights = 'uniform')\n",
    "knn_best_red.fit(X_red_train, y_red_train)\n",
    "pred_red_best = knn_best_red.predict(X_red_test)\n",
    "\n",
    "accuracy_best_red = accuracy_score(y_red_test, pred_red_best)\n",
    "accuracy_best_red"
   ]
  },
  {
   "cell_type": "code",
   "execution_count": 50,
   "metadata": {},
   "outputs": [
    {
     "data": {
      "image/png": "[encoded data removed]",
      "text/plain": [
       "<Figure size 432x288 with 2 Axes>"
      ]
     },
     "metadata": {},
     "output_type": "display_data"
    }
   ],
   "source": [
    "cm_best_red = confusion_matrix(y_red_test, pred_red_best)\n",
    "disp_best_red = ConfusionMatrixDisplay(confusion_matrix=cm_best_red, display_labels=knn_best_red.classes_)\n",
    "disp_best_red.plot()\n",
    "plt.show()"
   ]
  },
  {
   "cell_type": "code",
   "execution_count": 51,
   "metadata": {},
   "outputs": [
    {
     "name": "stdout",
     "output_type": "stream",
     "text": [
      "              precision    recall  f1-score   support\n",
      "\n",
      "           3       0.98      0.98      0.98       133\n",
      "           4       0.73      0.96      0.83       138\n",
      "           5       0.60      0.48      0.53       130\n",
      "           6       0.46      0.30      0.36       145\n",
      "           7       0.71      0.79      0.74       135\n",
      "           8       0.86      0.99      0.92       135\n",
      "\n",
      "    accuracy                           0.75       816\n",
      "   macro avg       0.72      0.75      0.73       816\n",
      "weighted avg       0.72      0.75      0.72       816\n",
      "\n"
     ]
    }
   ],
   "source": [
    "print(classification_report(y_red_test, pred_red_best))"
   ]
  },
  {
   "cell_type": "code",
   "execution_count": 52,
   "metadata": {},
   "outputs": [],
   "source": [
    "knn_white_classfier = KNeighborsClassifier()\n",
    "knn_white_classfier.fit(X_white_train, y_white_train)\n",
    "y_pred_white = knn_white_classfier.predict(X_white_test)"
   ]
  },
  {
   "cell_type": "code",
   "execution_count": 53,
   "metadata": {},
   "outputs": [
    {
     "data": {
      "text/plain": [
       "0.8254573170731707"
      ]
     },
     "execution_count": 53,
     "metadata": {},
     "output_type": "execute_result"
    }
   ],
   "source": [
    "accuracy_white = accuracy_score(y_white_test, y_pred_white)\n",
    "accuracy_white"
   ]
  },
  {
   "cell_type": "code",
   "execution_count": 54,
   "metadata": {},
   "outputs": [
    {
     "data": {
      "image/png": "[encoded data removed]",
      "text/plain": [
       "<Figure size 432x288 with 2 Axes>"
      ]
     },
     "metadata": {},
     "output_type": "display_data"
    }
   ],
   "source": [
    "cm_white = confusion_matrix(y_white_test, y_pred_white)\n",
    "disp_white = ConfusionMatrixDisplay(confusion_matrix=cm_white, display_labels=knn_white_classfier.classes_)\n",
    "disp_white.plot()\n",
    "plt.show()"
   ]
  },
  {
   "cell_type": "code",
   "execution_count": 55,
   "metadata": {},
   "outputs": [
    {
     "data": {
      "image/png": "[encoded data removed]",
      "text/plain": [
       "<Figure size 1440x864 with 1 Axes>"
      ]
     },
     "metadata": {},
     "output_type": "display_data"
    }
   ],
   "source": [
    "# Tuning parameters\n",
    "white_test_accuracy_scores_distance = []\n",
    "white_test_accuracy_scores_uniform = []\n",
    "\n",
    "white_training_accuracy_distance = []\n",
    "white_training_accuracy_uniform = []\n",
    "\n",
    "for i in range(1, 80, 2):\n",
    "    for w in ['uniform', 'distance']:\n",
    "        knn = KNeighborsClassifier(n_neighbors=i, weights=w)\n",
    "        knn.fit(X_white_train, y_white_train)\n",
    "        y_pred_i = knn.predict(X_white_test)\n",
    "        acc_test = accuracy_score(y_white_test, y_pred_i)\n",
    "        acc_training = accuracy_score(y_white_train, knn.predict(X_white_train))\n",
    "\n",
    "        if w == 'uniform':\n",
    "            white_test_accuracy_scores_uniform.append(acc_test)\n",
    "            white_training_accuracy_uniform.append(acc_training)\n",
    "        else:\n",
    "            white_test_accuracy_scores_distance.append(acc_test)\n",
    "            white_training_accuracy_distance.append(acc_training)\n",
    "\n",
    "plt.figure(figsize =(20, 12))\n",
    "plt.plot(range(1, 80, 2), white_test_accuracy_scores_distance, color ='blue',\n",
    "\t\t\t\tlinestyle ='dashed', marker ='o',\n",
    "\t\tmarkerfacecolor ='blue', markersize = 10, label='weight(distance), test')\n",
    "plt.plot(range(1, 80, 2),white_test_accuracy_scores_uniform, color ='red',\n",
    "\t\t\t\tlinestyle ='dashed', marker ='o',\n",
    "\t\tmarkerfacecolor ='red', markersize = 10, label='weight(uniform), test')\n",
    "\n",
    "plt.plot(range(1, 80, 2),white_training_accuracy_distance, color ='black',\n",
    "\t\t\t\tlinestyle ='-', marker ='o',\n",
    "\t\tmarkerfacecolor ='blue', markersize = 10, label='weight(distance), train')\n",
    "plt.plot(range(1, 80, 2),white_training_accuracy_uniform, color ='black',\n",
    "\t\t\t\tlinestyle ='-', marker ='o',\n",
    "\t\tmarkerfacecolor ='red', markersize = 10, label='weight(uniform), train')\n",
    "\n",
    "\n",
    "plt.title('Accuracy(whitewine) Given K Neighbors and Diffrent Weights')\n",
    "plt.xlabel('K')\n",
    "plt.ylabel('Accuracy Score')\n",
    "plt.legend(loc=\"best\")\n",
    "plt.show()"
   ]
  },
  {
   "cell_type": "code",
   "execution_count": 56,
   "metadata": {},
   "outputs": [
    {
     "data": {
      "text/plain": [
       "0.7576219512195121"
      ]
     },
     "execution_count": 56,
     "metadata": {},
     "output_type": "execute_result"
    }
   ],
   "source": [
    "# In order to minimize overfitting problem as well as getting a good accuracy\n",
    "# we choose k = 13, weights = uniform\n",
    "knn_best_white = KNeighborsClassifier(n_neighbors=13, weights = 'uniform')\n",
    "knn_best_white.fit(X_white_train, y_white_train)\n",
    "pred_white_best = knn_best_white.predict(X_white_test)\n",
    "\n",
    "accuracy_best_white = accuracy_score(y_white_test, pred_white_best)\n",
    "accuracy_best_white"
   ]
  },
  {
   "cell_type": "code",
   "execution_count": 57,
   "metadata": {},
   "outputs": [
    {
     "data": {
      "image/png": "[encoded data removed]",
      "text/plain": [
       "<Figure size 432x288 with 2 Axes>"
      ]
     },
     "metadata": {},
     "output_type": "display_data"
    }
   ],
   "source": [
    "cm_best_white = confusion_matrix(y_white_test, pred_white_best)\n",
    "disp_best_white = ConfusionMatrixDisplay(confusion_matrix=cm_best_white, display_labels=knn_best_white.classes_)\n",
    "disp_best_white.plot()\n",
    "plt.show()"
   ]
  },
  {
   "cell_type": "code",
   "execution_count": 58,
   "metadata": {},
   "outputs": [
    {
     "name": "stdout",
     "output_type": "stream",
     "text": [
      "              precision    recall  f1-score   support\n",
      "\n",
      "           3       0.99      0.96      0.98       440\n",
      "           4       0.80      0.96      0.87       453\n",
      "           5       0.64      0.60      0.62       430\n",
      "           6       0.57      0.29      0.38       437\n",
      "           7       0.67      0.76      0.71       440\n",
      "           8       0.78      0.96      0.86       424\n",
      "\n",
      "    accuracy                           0.76      2624\n",
      "   macro avg       0.74      0.76      0.74      2624\n",
      "weighted avg       0.74      0.76      0.74      2624\n",
      "\n"
     ]
    }
   ],
   "source": [
    "print(classification_report(y_white_test, pred_white_best))"
   ]
  },
  {
   "cell_type": "code",
   "execution_count": null,
   "metadata": {},
   "outputs": [],
   "source": []
  },
  {
   "cell_type": "markdown",
   "metadata": {},
   "source": [
    "## Gradient Boosting Tree"
   ]
  },
  {
   "cell_type": "code",
   "execution_count": 59,
   "metadata": {},
   "outputs": [],
   "source": [
    "from sklearn.model_selection import learning_curve"
   ]
  },
  {
   "cell_type": "code",
   "execution_count": 60,
   "metadata": {},
   "outputs": [],
   "source": [
    "#gradient boosting tree\n",
    "from sklearn.ensemble import GradientBoostingClassifier\n",
    "from sklearn.inspection import permutation_importance"
   ]
  },
  {
   "cell_type": "code",
   "execution_count": 61,
   "metadata": {},
   "outputs": [],
   "source": [
    "def feature_importance_plot(model,data,X_test,y_test):\n",
    "    feature_importance = model.feature_importances_\n",
    "    sorted_idx = np.argsort(feature_importance)\n",
    "    pos = np.arange(sorted_idx.shape[0]) + 0.5\n",
    "    fig = plt.figure(figsize=(12, 6))\n",
    "    plt.subplot(1, 2, 1)\n",
    "    plt.barh(pos, feature_importance[sorted_idx], align=\"center\")\n",
    "    plt.yticks(pos, np.array(data.feature_names)[sorted_idx])\n",
    "    plt.title(\"Feature Importance (MDI)\")\n",
    "    plt.show()"
   ]
  },
  {
   "cell_type": "code",
   "execution_count": 62,
   "metadata": {},
   "outputs": [
    {
     "data": {
      "text/plain": [
       "GradientBoostingClassifier(max_depth=10, n_estimators=10)"
      ]
     },
     "execution_count": 62,
     "metadata": {},
     "output_type": "execute_result"
    }
   ],
   "source": [
    "#train all wine and tune parameters\n",
    "clf_all = GradientBoostingClassifier(n_estimators=10,max_depth=10)\n",
    "clf_all.fit(X_train, y_train)"
   ]
  },
  {
   "cell_type": "code",
   "execution_count": 63,
   "metadata": {},
   "outputs": [
    {
     "data": {
      "text/plain": [
       "0.8277186761229315"
      ]
     },
     "execution_count": 63,
     "metadata": {},
     "output_type": "execute_result"
    }
   ],
   "source": [
    "accuracy_all= accuracy_score(clf_all.predict(X_test), y_test.values)\n",
    "accuracy_all"
   ]
  },
  {
   "cell_type": "code",
   "execution_count": 64,
   "metadata": {},
   "outputs": [
    {
     "data": {
      "text/plain": [
       "GradientBoostingClassifier(max_depth=10, n_estimators=20)"
      ]
     },
     "execution_count": 64,
     "metadata": {},
     "output_type": "execute_result"
    }
   ],
   "source": [
    "clf_all_1 = GradientBoostingClassifier(n_estimators=20,max_depth=10)\n",
    "clf_all_1.fit(X_train, y_train)"
   ]
  },
  {
   "cell_type": "code",
   "execution_count": 65,
   "metadata": {},
   "outputs": [
    {
     "data": {
      "text/plain": [
       "0.8424940898345153"
      ]
     },
     "execution_count": 65,
     "metadata": {},
     "output_type": "execute_result"
    }
   ],
   "source": [
    "accuracy_all_1 = accuracy_score(clf_all_1.predict(X_test), y_test.values)\n",
    "accuracy_all_1"
   ]
  },
  {
   "cell_type": "code",
   "execution_count": 66,
   "metadata": {},
   "outputs": [
    {
     "data": {
      "text/plain": [
       "GradientBoostingClassifier(max_depth=10, n_estimators=40)"
      ]
     },
     "execution_count": 66,
     "metadata": {},
     "output_type": "execute_result"
    }
   ],
   "source": [
    "clf_all_2 = GradientBoostingClassifier(n_estimators=40,max_depth=10)\n",
    "clf_all_2.fit(X_train, y_train)"
   ]
  },
  {
   "cell_type": "code",
   "execution_count": 67,
   "metadata": {},
   "outputs": [
    {
     "data": {
      "text/plain": [
       "0.8625886524822695"
      ]
     },
     "execution_count": 67,
     "metadata": {},
     "output_type": "execute_result"
    }
   ],
   "source": [
    "accuracy_all_2 = accuracy_score(clf_all_2.predict(X_test), y_test.values)\n",
    "accuracy_all_2"
   ]
  },
  {
   "cell_type": "code",
   "execution_count": 68,
   "metadata": {},
   "outputs": [
    {
     "data": {
      "text/plain": [
       "GradientBoostingClassifier(max_depth=10, n_estimators=50)"
      ]
     },
     "execution_count": 68,
     "metadata": {},
     "output_type": "execute_result"
    }
   ],
   "source": [
    "clf_all_3 = GradientBoostingClassifier(n_estimators=50,max_depth=10)\n",
    "clf_all_3.fit(X_train, y_train)"
   ]
  },
  {
   "cell_type": "code",
   "execution_count": 69,
   "metadata": {},
   "outputs": [
    {
     "data": {
      "text/plain": [
       "0.8652482269503546"
      ]
     },
     "execution_count": 69,
     "metadata": {},
     "output_type": "execute_result"
    }
   ],
   "source": [
    "accuracy_all_3 = accuracy_score(clf_all_3.predict(X_test), y_test.values)\n",
    "accuracy_all_3"
   ]
  },
  {
   "cell_type": "code",
   "execution_count": 70,
   "metadata": {},
   "outputs": [
    {
     "data": {
      "text/plain": [
       "GradientBoostingClassifier(max_depth=10, n_estimators=40)"
      ]
     },
     "execution_count": 70,
     "metadata": {},
     "output_type": "execute_result"
    }
   ],
   "source": [
    "#best model using all wine data\n",
    "clf_all_2"
   ]
  },
  {
   "cell_type": "code",
   "execution_count": 71,
   "metadata": {},
   "outputs": [
    {
     "name": "stdout",
     "output_type": "stream",
     "text": [
      "All wine - Multi-class results\n",
      "Train data score\n",
      "              precision    recall  f1-score   support\n",
      "\n",
      "           3       1.00      1.00      1.00      2011\n",
      "           4       1.00      1.00      1.00      2199\n",
      "           5       1.00      1.00      1.00      1896\n",
      "           6       1.00      1.00      1.00      1978\n",
      "           7       1.00      1.00      1.00      1911\n",
      "           8       1.00      1.00      1.00      2189\n",
      "\n",
      "    accuracy                           1.00     12184\n",
      "   macro avg       1.00      1.00      1.00     12184\n",
      "weighted avg       1.00      1.00      1.00     12184\n",
      "\n",
      "Test data score\n",
      "              precision    recall  f1-score   support\n",
      "\n",
      "           3       0.99      0.98      0.99       592\n",
      "           4       0.95      0.96      0.95       526\n",
      "           5       0.77      0.77      0.77       571\n",
      "           6       0.66      0.66      0.66       552\n",
      "           7       0.84      0.83      0.83       588\n",
      "           8       0.97      0.97      0.97       555\n",
      "\n",
      "    accuracy                           0.86      3384\n",
      "   macro avg       0.86      0.86      0.86      3384\n",
      "weighted avg       0.86      0.86      0.86      3384\n",
      "\n"
     ]
    }
   ],
   "source": [
    "#get classification report\n",
    "print(\"All wine - Multi-class results\")\n",
    "print(\"Train data score\")\n",
    "print(classification_report(y_train, clf_all_2.predict(X_train)))\n",
    "print(\"Test data score\")\n",
    "print(classification_report(y_test, clf_all_2.predict(X_test)))"
   ]
  },
  {
   "cell_type": "code",
   "execution_count": null,
   "metadata": {},
   "outputs": [],
   "source": []
  },
  {
   "cell_type": "code",
   "execution_count": 72,
   "metadata": {},
   "outputs": [
    {
     "data": {
      "text/plain": [
       "GradientBoostingClassifier(max_depth=10, n_estimators=30)"
      ]
     },
     "execution_count": 72,
     "metadata": {},
     "output_type": "execute_result"
    }
   ],
   "source": [
    "#train white wine and tune parameters\n",
    "clf_white = GradientBoostingClassifier(n_estimators=30,max_depth=10)\n",
    "clf_white.fit(X_white_train, y_white_train)"
   ]
  },
  {
   "cell_type": "code",
   "execution_count": 73,
   "metadata": {},
   "outputs": [
    {
     "data": {
      "text/plain": [
       "0.8570884146341463"
      ]
     },
     "execution_count": 73,
     "metadata": {},
     "output_type": "execute_result"
    }
   ],
   "source": [
    "accuracy_white = accuracy_score(clf_white.predict(X_white_test), y_white_test.values)\n",
    "accuracy_white"
   ]
  },
  {
   "cell_type": "code",
   "execution_count": 74,
   "metadata": {},
   "outputs": [
    {
     "data": {
      "text/plain": [
       "GradientBoostingClassifier(max_depth=10, n_estimators=40)"
      ]
     },
     "execution_count": 74,
     "metadata": {},
     "output_type": "execute_result"
    }
   ],
   "source": [
    "clf_white_1 = GradientBoostingClassifier(n_estimators=40,max_depth=10)\n",
    "clf_white_1.fit(X_white_train, y_white_train)"
   ]
  },
  {
   "cell_type": "code",
   "execution_count": 75,
   "metadata": {},
   "outputs": [
    {
     "data": {
      "text/plain": [
       "0.8582317073170732"
      ]
     },
     "execution_count": 75,
     "metadata": {},
     "output_type": "execute_result"
    }
   ],
   "source": [
    "accuracy_white_1 = accuracy_score(clf_white_1.predict(X_white_test), y_white_test.values)\n",
    "accuracy_white_1"
   ]
  },
  {
   "cell_type": "code",
   "execution_count": 76,
   "metadata": {},
   "outputs": [
    {
     "data": {
      "text/plain": [
       "GradientBoostingClassifier(max_depth=10, n_estimators=50)"
      ]
     },
     "execution_count": 76,
     "metadata": {},
     "output_type": "execute_result"
    }
   ],
   "source": [
    "clf_white_2 = GradientBoostingClassifier(n_estimators=50,max_depth=10)\n",
    "clf_white_2.fit(X_white_train, y_white_train)"
   ]
  },
  {
   "cell_type": "code",
   "execution_count": 77,
   "metadata": {},
   "outputs": [
    {
     "data": {
      "text/plain": [
       "0.8685213414634146"
      ]
     },
     "execution_count": 77,
     "metadata": {},
     "output_type": "execute_result"
    }
   ],
   "source": [
    "accuracy_white_2 = accuracy_score(clf_white_2.predict(X_white_test), y_white_test.values)\n",
    "accuracy_white_2"
   ]
  },
  {
   "cell_type": "code",
   "execution_count": 78,
   "metadata": {},
   "outputs": [
    {
     "data": {
      "text/plain": [
       "GradientBoostingClassifier(max_depth=10, n_estimators=60)"
      ]
     },
     "execution_count": 78,
     "metadata": {},
     "output_type": "execute_result"
    }
   ],
   "source": [
    "clf_white_3 = GradientBoostingClassifier(n_estimators=60,max_depth=10)\n",
    "clf_white_3.fit(X_white_train, y_white_train)"
   ]
  },
  {
   "cell_type": "code",
   "execution_count": 79,
   "metadata": {},
   "outputs": [
    {
     "data": {
      "text/plain": [
       "0.8723323170731707"
      ]
     },
     "execution_count": 79,
     "metadata": {},
     "output_type": "execute_result"
    }
   ],
   "source": [
    "accuracy_white_3 = accuracy_score(clf_white_3.predict(X_white_test), y_white_test.values)\n",
    "accuracy_white_3"
   ]
  },
  {
   "cell_type": "code",
   "execution_count": 80,
   "metadata": {},
   "outputs": [
    {
     "data": {
      "text/plain": [
       "GradientBoostingClassifier(max_depth=10, n_estimators=50)"
      ]
     },
     "execution_count": 80,
     "metadata": {},
     "output_type": "execute_result"
    }
   ],
   "source": [
    "#the best white wine model\n",
    "clf_white_2"
   ]
  },
  {
   "cell_type": "code",
   "execution_count": 81,
   "metadata": {},
   "outputs": [
    {
     "name": "stdout",
     "output_type": "stream",
     "text": [
      "white wine - Multi-class results\n",
      "Test data score\n",
      "              precision    recall  f1-score   support\n",
      "\n",
      "           3       0.99      0.99      0.99       440\n",
      "           4       0.95      0.94      0.95       453\n",
      "           5       0.77      0.75      0.76       430\n",
      "           6       0.71      0.70      0.71       437\n",
      "           7       0.82      0.89      0.85       440\n",
      "           8       0.96      0.94      0.95       424\n",
      "\n",
      "    accuracy                           0.87      2624\n",
      "   macro avg       0.87      0.87      0.87      2624\n",
      "weighted avg       0.87      0.87      0.87      2624\n",
      "\n"
     ]
    }
   ],
   "source": [
    "##get classification report\n",
    "print(\"white wine - Multi-class results\")\n",
    "# print(\"Train data score\")\n",
    "# print(classification_report(y_white_train, clf_white_2.predict(X_white_train)))\n",
    "print(\"Test data score\")\n",
    "print(classification_report(y_white_test, clf_white_2.predict(X_white_test)))"
   ]
  },
  {
   "cell_type": "code",
   "execution_count": 82,
   "metadata": {},
   "outputs": [
    {
     "data": {
      "text/plain": [
       "GradientBoostingClassifier(max_depth=10, n_estimators=10)"
      ]
     },
     "execution_count": 82,
     "metadata": {},
     "output_type": "execute_result"
    }
   ],
   "source": [
    "#train red wine and tune parameters\n",
    "clf_red = GradientBoostingClassifier(n_estimators=10,max_depth=10)\n",
    "clf_red.fit(X_red_train, y_red_train)"
   ]
  },
  {
   "cell_type": "code",
   "execution_count": 83,
   "metadata": {},
   "outputs": [
    {
     "data": {
      "text/plain": [
       "0.8161764705882353"
      ]
     },
     "execution_count": 83,
     "metadata": {},
     "output_type": "execute_result"
    }
   ],
   "source": [
    "accuracy_red = accuracy_score(clf_red.predict(X_red_test), y_red_test.values)\n",
    "accuracy_red"
   ]
  },
  {
   "cell_type": "code",
   "execution_count": 84,
   "metadata": {},
   "outputs": [
    {
     "data": {
      "text/plain": [
       "GradientBoostingClassifier(max_depth=10, n_estimators=20)"
      ]
     },
     "execution_count": 84,
     "metadata": {},
     "output_type": "execute_result"
    }
   ],
   "source": [
    "clf_red_1 = GradientBoostingClassifier(n_estimators=20,max_depth=10)\n",
    "clf_red_1.fit(X_red_train, y_red_train)"
   ]
  },
  {
   "cell_type": "code",
   "execution_count": 85,
   "metadata": {},
   "outputs": [
    {
     "data": {
      "text/plain": [
       "0.8308823529411765"
      ]
     },
     "execution_count": 85,
     "metadata": {},
     "output_type": "execute_result"
    }
   ],
   "source": [
    "accuracy_red_1 = accuracy_score(clf_red_1.predict(X_red_test), y_red_test.values)\n",
    "accuracy_red_1"
   ]
  },
  {
   "cell_type": "code",
   "execution_count": 86,
   "metadata": {},
   "outputs": [
    {
     "data": {
      "text/plain": [
       "GradientBoostingClassifier(max_depth=10, n_estimators=30)"
      ]
     },
     "execution_count": 86,
     "metadata": {},
     "output_type": "execute_result"
    }
   ],
   "source": [
    "clf_red_2 = GradientBoostingClassifier(n_estimators=30,max_depth=10)\n",
    "clf_red_2.fit(X_red_train, y_red_train)"
   ]
  },
  {
   "cell_type": "code",
   "execution_count": 87,
   "metadata": {},
   "outputs": [
    {
     "data": {
      "text/plain": [
       "0.8382352941176471"
      ]
     },
     "execution_count": 87,
     "metadata": {},
     "output_type": "execute_result"
    }
   ],
   "source": [
    "accuracy_red_2 = accuracy_score(clf_red_2.predict(X_red_test), y_red_test.values)\n",
    "accuracy_red_2"
   ]
  },
  {
   "cell_type": "code",
   "execution_count": 88,
   "metadata": {},
   "outputs": [
    {
     "data": {
      "text/plain": [
       "GradientBoostingClassifier(max_depth=10, n_estimators=40)"
      ]
     },
     "execution_count": 88,
     "metadata": {},
     "output_type": "execute_result"
    }
   ],
   "source": [
    "clf_red_3 = GradientBoostingClassifier(n_estimators=40,max_depth=10)\n",
    "clf_red_3.fit(X_red_train, y_red_train)"
   ]
  },
  {
   "cell_type": "code",
   "execution_count": 89,
   "metadata": {},
   "outputs": [
    {
     "data": {
      "text/plain": [
       "0.8480392156862745"
      ]
     },
     "execution_count": 89,
     "metadata": {},
     "output_type": "execute_result"
    }
   ],
   "source": [
    "accuracy_red_3 = accuracy_score(clf_red_3.predict(X_red_test), y_red_test.values)\n",
    "accuracy_red_3"
   ]
  },
  {
   "cell_type": "code",
   "execution_count": 90,
   "metadata": {},
   "outputs": [
    {
     "data": {
      "text/plain": [
       "GradientBoostingClassifier(max_depth=10, n_estimators=50)"
      ]
     },
     "execution_count": 90,
     "metadata": {},
     "output_type": "execute_result"
    }
   ],
   "source": [
    "clf_red_4 = GradientBoostingClassifier(n_estimators=50,max_depth=10)\n",
    "clf_red_4.fit(X_red_train, y_red_train)"
   ]
  },
  {
   "cell_type": "code",
   "execution_count": 91,
   "metadata": {},
   "outputs": [
    {
     "data": {
      "text/plain": [
       "0.8541666666666666"
      ]
     },
     "execution_count": 91,
     "metadata": {},
     "output_type": "execute_result"
    }
   ],
   "source": [
    "accuracy_red_4 = accuracy_score(clf_red_4.predict(X_red_test), y_red_test.values)\n",
    "accuracy_red_4"
   ]
  },
  {
   "cell_type": "code",
   "execution_count": 92,
   "metadata": {},
   "outputs": [
    {
     "data": {
      "text/plain": [
       "GradientBoostingClassifier(max_depth=10, n_estimators=60)"
      ]
     },
     "execution_count": 92,
     "metadata": {},
     "output_type": "execute_result"
    }
   ],
   "source": [
    "clf_red_5 = GradientBoostingClassifier(n_estimators=60,max_depth=10)\n",
    "clf_red_5.fit(X_red_train, y_red_train)"
   ]
  },
  {
   "cell_type": "code",
   "execution_count": 93,
   "metadata": {},
   "outputs": [
    {
     "data": {
      "text/plain": [
       "0.8529411764705882"
      ]
     },
     "execution_count": 93,
     "metadata": {},
     "output_type": "execute_result"
    }
   ],
   "source": [
    "accuracy_red_5 = accuracy_score(clf_red_5.predict(X_red_test), y_red_test.values)\n",
    "accuracy_red_5"
   ]
  },
  {
   "cell_type": "code",
   "execution_count": 94,
   "metadata": {},
   "outputs": [
    {
     "data": {
      "text/plain": [
       "GradientBoostingClassifier(max_depth=10, n_estimators=70)"
      ]
     },
     "execution_count": 94,
     "metadata": {},
     "output_type": "execute_result"
    }
   ],
   "source": [
    "clf_red_6 = GradientBoostingClassifier(n_estimators=70,max_depth=10)\n",
    "clf_red_6.fit(X_red_train, y_red_train)"
   ]
  },
  {
   "cell_type": "code",
   "execution_count": 95,
   "metadata": {},
   "outputs": [
    {
     "data": {
      "text/plain": [
       "0.8615196078431373"
      ]
     },
     "execution_count": 95,
     "metadata": {},
     "output_type": "execute_result"
    }
   ],
   "source": [
    "accuracy_red_6 = accuracy_score(clf_red_6.predict(X_red_test), y_red_test.values)\n",
    "accuracy_red_6"
   ]
  },
  {
   "cell_type": "code",
   "execution_count": 96,
   "metadata": {},
   "outputs": [
    {
     "data": {
      "text/plain": [
       "GradientBoostingClassifier(max_depth=10, n_estimators=60)"
      ]
     },
     "execution_count": 96,
     "metadata": {},
     "output_type": "execute_result"
    }
   ],
   "source": [
    "#the best red wine model\n",
    "clf_red_5"
   ]
  },
  {
   "cell_type": "code",
   "execution_count": 97,
   "metadata": {},
   "outputs": [
    {
     "name": "stdout",
     "output_type": "stream",
     "text": [
      "red wine - Multi-class results\n",
      "Test data score\n",
      "              precision    recall  f1-score   support\n",
      "\n",
      "           3       0.96      0.98      0.97       133\n",
      "           4       0.95      0.93      0.94       138\n",
      "           5       0.72      0.77      0.75       130\n",
      "           6       0.68      0.58      0.63       145\n",
      "           7       0.82      0.90      0.86       135\n",
      "           8       0.97      0.97      0.97       135\n",
      "\n",
      "    accuracy                           0.85       816\n",
      "   macro avg       0.85      0.86      0.85       816\n",
      "weighted avg       0.85      0.85      0.85       816\n",
      "\n"
     ]
    }
   ],
   "source": [
    "print(\"red wine - Multi-class results\")\n",
    "# print(\"Train data score\")\n",
    "# print(classification_report(y_red_train, clf_red_5.predict(X_red_train)))\n",
    "print(\"Test data score\")\n",
    "print(classification_report(y_red_test, clf_red_5.predict(X_red_test)))"
   ]
  },
  {
   "cell_type": "code",
   "execution_count": 98,
   "metadata": {},
   "outputs": [
    {
     "name": "stdout",
     "output_type": "stream",
     "text": [
      "white wine with best all wine model- Multi-class results\n",
      "Test data score\n",
      "              precision    recall  f1-score   support\n",
      "\n",
      "           3       0.99      0.96      0.97       162\n",
      "           4       0.95      0.97      0.96       427\n",
      "           5       0.80      0.78      0.79       406\n",
      "           6       0.72      0.70      0.71       422\n",
      "           7       0.86      0.89      0.87       464\n",
      "           8       0.98      0.98      0.98       538\n",
      "\n",
      "    accuracy                           0.88      2419\n",
      "   macro avg       0.88      0.88      0.88      2419\n",
      "weighted avg       0.88      0.88      0.88      2419\n",
      "\n"
     ]
    }
   ],
   "source": [
    "# using best all model to test white wine data\n",
    "# accuracy_white_using_all = accuracy_score(clf_all_2.predict(X_test[X_test.type_white == 1]), y_test[X_test.type_white == 1].values)\n",
    "# accuracy_white_using_all\n",
    "\n",
    "print(\"white wine with best all wine model- Multi-class results\")\n",
    "print(\"Test data score\")\n",
    "print(classification_report(y_test[X_test.type_white == 1], clf_all_2.predict(X_test[X_test.type_white == 1])))"
   ]
  },
  {
   "cell_type": "code",
   "execution_count": 99,
   "metadata": {},
   "outputs": [
    {
     "name": "stdout",
     "output_type": "stream",
     "text": [
      "red wine with best all wine model- Multi-class results\n",
      "Test data score\n",
      "              precision    recall  f1-score   support\n",
      "\n",
      "           3       1.00      1.00      1.00       430\n",
      "           4       0.93      0.94      0.93        99\n",
      "           5       0.70      0.75      0.72       165\n",
      "           6       0.47      0.54      0.50       130\n",
      "           7       0.76      0.59      0.66       124\n",
      "           8       0.50      0.41      0.45        17\n",
      "\n",
      "    accuracy                           0.82       965\n",
      "   macro avg       0.73      0.70      0.71       965\n",
      "weighted avg       0.83      0.82      0.82       965\n",
      "\n"
     ]
    }
   ],
   "source": [
    "# using best all model to test red wine data\n",
    "print(\"red wine with best all wine model- Multi-class results\")\n",
    "print(\"Test data score\")\n",
    "print(classification_report(y_test[X_test.type_white == 0], clf_all_2.predict(X_test[X_test.type_white == 0])))"
   ]
  },
  {
   "cell_type": "code",
   "execution_count": 100,
   "metadata": {},
   "outputs": [],
   "source": [
    "from sklearn.model_selection import learning_curve"
   ]
  },
  {
   "cell_type": "code",
   "execution_count": 101,
   "metadata": {},
   "outputs": [],
   "source": [
    "train_sizes = [0.1,0.3,0.6,0.9]\n",
    "_, train_scores, test_scores = learning_curve(GradientBoostingClassifier(max_depth=10, n_estimators=40), X_train, y_train, train_sizes=train_sizes, cv=10)\n"
   ]
  },
  {
   "cell_type": "code",
   "execution_count": 102,
   "metadata": {},
   "outputs": [
    {
     "data": {
      "text/plain": [
       "<matplotlib.legend.Legend at 0x1fc9efb5c50>"
      ]
     },
     "execution_count": 102,
     "metadata": {},
     "output_type": "execute_result"
    },
    {
     "data": {
      "image/png": "[encoded data removed]",
      "text/plain": [
       "<Figure size 432x288 with 1 Axes>"
      ]
     },
     "metadata": {},
     "output_type": "display_data"
    }
   ],
   "source": [
    "plt.plot(train_sizes,np.mean(train_scores,axis=1),color=\"r\",label=\"Training score\")\n",
    "plt.plot(train_sizes,np.mean(test_scores,axis=1),color=\"g\",label=\"Cross-validation score\")\n",
    "plt.legend([\"Training score\",\"Cross-validation score\"])"
   ]
  },
  {
   "cell_type": "code",
   "execution_count": null,
   "metadata": {},
   "outputs": [],
   "source": []
  }
 ],
 "metadata": {
  "interpreter": {
   "hash": "b0fa6594d8f4cbf19f97940f81e996739fb7646882a419484c72d19e05852a7e"
  },
  "kernelspec": {
   "display_name": "Python 3",
   "language": "python",
   "name": "python3"
  },
  "language_info": {
   "codemirror_mode": {
    "name": "ipython",
    "version": 3
   },
   "file_extension": ".py",
   "mimetype": "text/x-python",
   "name": "python",
   "nbconvert_exporter": "python",
   "pygments_lexer": "ipython3",
   "version": "3.6.13"
  }
 },
 "nbformat": 4,
 "nbformat_minor": 2
}
